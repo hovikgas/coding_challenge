{
 "cells": [
  {
   "cell_type": "markdown",
   "metadata": {},
   "source": [
    "# Instructor Coding Challenge"
   ]
  },
  {
   "cell_type": "markdown",
   "metadata": {},
   "source": [
    "## Part 1: Modeling Challenge"
   ]
  },
  {
   "cell_type": "markdown",
   "metadata": {},
   "source": [
    "### Loading in the data and combining it with the header file provided"
   ]
  },
  {
   "cell_type": "code",
   "execution_count": 1,
   "metadata": {},
   "outputs": [],
   "source": [
    "import pandas as pd\n",
    "import numpy as np\n",
    "from scipy import stats"
   ]
  },
  {
   "cell_type": "code",
   "execution_count": 2,
   "metadata": {},
   "outputs": [],
   "source": [
    "bcdf = pd.read_csv('./breast-cancer.csv', header=None)"
   ]
  },
  {
   "cell_type": "code",
   "execution_count": 3,
   "metadata": {},
   "outputs": [],
   "source": [
    "field_names = open('./field_names.txt').read().splitlines()"
   ]
  },
  {
   "cell_type": "markdown",
   "metadata": {},
   "source": [
    "I first created a dataframe from the CSV file, then a list of the field names from the header file, stripping away the carriage return characters so only the field names remain. "
   ]
  },
  {
   "cell_type": "code",
   "execution_count": 4,
   "metadata": {},
   "outputs": [],
   "source": [
    "bcdf.columns = field_names"
   ]
  },
  {
   "cell_type": "markdown",
   "metadata": {},
   "source": [
    "I simply set the dataframe's columns equal to the list of field names, which renamed them. Now I'll move on to exploring the data and seeing what kinds of cleaning and/or transformations might be required."
   ]
  },
  {
   "cell_type": "code",
   "execution_count": 5,
   "metadata": {},
   "outputs": [
    {
     "data": {
      "text/plain": [
       "ID                            0\n",
       "diagnosis                     0\n",
       "radius_mean                   0\n",
       "radius_sd_error               0\n",
       "radius_worst                  0\n",
       "texture_mean                  0\n",
       "texture_sd_error              0\n",
       "texture_worst                 0\n",
       "perimeter_mean                0\n",
       "perimeter_sd_error            0\n",
       "perimeter_worst               0\n",
       "area_mean                     0\n",
       "area_sd_error                 0\n",
       "area_worst                    0\n",
       "smoothness_mean               0\n",
       "smoothness_sd_error           0\n",
       "smoothness_worst              0\n",
       "compactness_mean              0\n",
       "compactness_sd_error          0\n",
       "compactness_worst             0\n",
       "concavity_mean                0\n",
       "concavity_sd_error            0\n",
       "concavity_worst               0\n",
       "concave_points_mean           0\n",
       "concave_points_sd_error       0\n",
       "concave_points_worst          0\n",
       "symmetry_mean                 0\n",
       "symmetry_sd_error             0\n",
       "symmetry_worst                0\n",
       "fractal_dimension_mean        0\n",
       "fractal_dimension_sd_error    0\n",
       "fractal_dimension_worst       0\n",
       "dtype: int64"
      ]
     },
     "execution_count": 5,
     "metadata": {},
     "output_type": "execute_result"
    }
   ],
   "source": [
    "bcdf.isna().sum()"
   ]
  },
  {
   "cell_type": "markdown",
   "metadata": {},
   "source": [
    "Looks like we don't have to worry about any missing data. But what about duplicates?"
   ]
  },
  {
   "cell_type": "code",
   "execution_count": 6,
   "metadata": {},
   "outputs": [
    {
     "data": {
      "text/plain": [
       "0"
      ]
     },
     "execution_count": 6,
     "metadata": {},
     "output_type": "execute_result"
    }
   ],
   "source": [
    "bcdf.duplicated().sum()"
   ]
  },
  {
   "cell_type": "markdown",
   "metadata": {},
   "source": [
    "There don't seem to be any duplicates for any columns, even the ID column, so we know that each ID is a unique identifier for each row/person"
   ]
  },
  {
   "cell_type": "code",
   "execution_count": 7,
   "metadata": {},
   "outputs": [
    {
     "data": {
      "text/plain": [
       "0"
      ]
     },
     "execution_count": 7,
     "metadata": {},
     "output_type": "execute_result"
    }
   ],
   "source": [
    "bcdf.duplicated(subset='ID').sum()"
   ]
  },
  {
   "cell_type": "markdown",
   "metadata": {},
   "source": [
    "Every variable seems to be some sort of measurement, except the diagnosis, so I'm going to make sure they all have the correct data types."
   ]
  },
  {
   "cell_type": "code",
   "execution_count": 8,
   "metadata": {},
   "outputs": [
    {
     "name": "stdout",
     "output_type": "stream",
     "text": [
      "<class 'pandas.core.frame.DataFrame'>\n",
      "RangeIndex: 569 entries, 0 to 568\n",
      "Data columns (total 32 columns):\n",
      "ID                            569 non-null int64\n",
      "diagnosis                     569 non-null object\n",
      "radius_mean                   569 non-null float64\n",
      "radius_sd_error               569 non-null float64\n",
      "radius_worst                  569 non-null float64\n",
      "texture_mean                  569 non-null float64\n",
      "texture_sd_error              569 non-null float64\n",
      "texture_worst                 569 non-null float64\n",
      "perimeter_mean                569 non-null float64\n",
      "perimeter_sd_error            569 non-null float64\n",
      "perimeter_worst               569 non-null float64\n",
      "area_mean                     569 non-null float64\n",
      "area_sd_error                 569 non-null float64\n",
      "area_worst                    569 non-null float64\n",
      "smoothness_mean               569 non-null float64\n",
      "smoothness_sd_error           569 non-null float64\n",
      "smoothness_worst              569 non-null float64\n",
      "compactness_mean              569 non-null float64\n",
      "compactness_sd_error          569 non-null float64\n",
      "compactness_worst             569 non-null float64\n",
      "concavity_mean                569 non-null float64\n",
      "concavity_sd_error            569 non-null float64\n",
      "concavity_worst               569 non-null float64\n",
      "concave_points_mean           569 non-null float64\n",
      "concave_points_sd_error       569 non-null float64\n",
      "concave_points_worst          569 non-null float64\n",
      "symmetry_mean                 569 non-null float64\n",
      "symmetry_sd_error             569 non-null float64\n",
      "symmetry_worst                569 non-null float64\n",
      "fractal_dimension_mean        569 non-null float64\n",
      "fractal_dimension_sd_error    569 non-null float64\n",
      "fractal_dimension_worst       569 non-null float64\n",
      "dtypes: float64(30), int64(1), object(1)\n",
      "memory usage: 142.4+ KB\n"
     ]
    }
   ],
   "source": [
    "bcdf.info()"
   ]
  },
  {
   "cell_type": "markdown",
   "metadata": {},
   "source": [
    "Indeed, it looks like everything is a float, except ID, which is an int, and diagnosis which is an object (in this case string)."
   ]
  },
  {
   "cell_type": "code",
   "execution_count": 9,
   "metadata": {},
   "outputs": [
    {
     "data": {
      "text/plain": [
       "B    357\n",
       "M    212\n",
       "Name: diagnosis, dtype: int64"
      ]
     },
     "execution_count": 9,
     "metadata": {},
     "output_type": "execute_result"
    }
   ],
   "source": [
    "bcdf.diagnosis.value_counts()"
   ]
  },
  {
   "cell_type": "markdown",
   "metadata": {},
   "source": [
    "We have 357 benign tumors, and 212 malignant tumors, which is a bit unbalanced, but not too bad. Now I'm going to see if I can identify any differences between the various measurements of benign and malignant tumors, to see if any are significant. A simply groupby by the diagnosis will allow us to see the means of the rest of features. "
   ]
  },
  {
   "cell_type": "code",
   "execution_count": 10,
   "metadata": {},
   "outputs": [
    {
     "data": {
      "text/html": [
       "<div>\n",
       "<style scoped>\n",
       "    .dataframe tbody tr th:only-of-type {\n",
       "        vertical-align: middle;\n",
       "    }\n",
       "\n",
       "    .dataframe tbody tr th {\n",
       "        vertical-align: top;\n",
       "    }\n",
       "\n",
       "    .dataframe thead th {\n",
       "        text-align: right;\n",
       "    }\n",
       "</style>\n",
       "<table border=\"1\" class=\"dataframe\">\n",
       "  <thead>\n",
       "    <tr style=\"text-align: right;\">\n",
       "      <th>diagnosis</th>\n",
       "      <th>B</th>\n",
       "      <th>M</th>\n",
       "    </tr>\n",
       "  </thead>\n",
       "  <tbody>\n",
       "    <tr>\n",
       "      <th>ID</th>\n",
       "      <td>26543824.62</td>\n",
       "      <td>36818050.44</td>\n",
       "    </tr>\n",
       "    <tr>\n",
       "      <th>radius_mean</th>\n",
       "      <td>12.15</td>\n",
       "      <td>17.46</td>\n",
       "    </tr>\n",
       "    <tr>\n",
       "      <th>radius_sd_error</th>\n",
       "      <td>17.91</td>\n",
       "      <td>21.60</td>\n",
       "    </tr>\n",
       "    <tr>\n",
       "      <th>radius_worst</th>\n",
       "      <td>78.08</td>\n",
       "      <td>115.37</td>\n",
       "    </tr>\n",
       "    <tr>\n",
       "      <th>texture_mean</th>\n",
       "      <td>462.79</td>\n",
       "      <td>978.38</td>\n",
       "    </tr>\n",
       "    <tr>\n",
       "      <th>texture_sd_error</th>\n",
       "      <td>0.09</td>\n",
       "      <td>0.10</td>\n",
       "    </tr>\n",
       "    <tr>\n",
       "      <th>texture_worst</th>\n",
       "      <td>0.08</td>\n",
       "      <td>0.15</td>\n",
       "    </tr>\n",
       "    <tr>\n",
       "      <th>perimeter_mean</th>\n",
       "      <td>0.05</td>\n",
       "      <td>0.16</td>\n",
       "    </tr>\n",
       "    <tr>\n",
       "      <th>perimeter_sd_error</th>\n",
       "      <td>0.03</td>\n",
       "      <td>0.09</td>\n",
       "    </tr>\n",
       "    <tr>\n",
       "      <th>perimeter_worst</th>\n",
       "      <td>0.17</td>\n",
       "      <td>0.19</td>\n",
       "    </tr>\n",
       "    <tr>\n",
       "      <th>area_mean</th>\n",
       "      <td>0.06</td>\n",
       "      <td>0.06</td>\n",
       "    </tr>\n",
       "    <tr>\n",
       "      <th>area_sd_error</th>\n",
       "      <td>0.28</td>\n",
       "      <td>0.61</td>\n",
       "    </tr>\n",
       "    <tr>\n",
       "      <th>area_worst</th>\n",
       "      <td>1.22</td>\n",
       "      <td>1.21</td>\n",
       "    </tr>\n",
       "    <tr>\n",
       "      <th>smoothness_mean</th>\n",
       "      <td>2.00</td>\n",
       "      <td>4.32</td>\n",
       "    </tr>\n",
       "    <tr>\n",
       "      <th>smoothness_sd_error</th>\n",
       "      <td>21.14</td>\n",
       "      <td>72.67</td>\n",
       "    </tr>\n",
       "    <tr>\n",
       "      <th>smoothness_worst</th>\n",
       "      <td>0.01</td>\n",
       "      <td>0.01</td>\n",
       "    </tr>\n",
       "    <tr>\n",
       "      <th>compactness_mean</th>\n",
       "      <td>0.02</td>\n",
       "      <td>0.03</td>\n",
       "    </tr>\n",
       "    <tr>\n",
       "      <th>compactness_sd_error</th>\n",
       "      <td>0.03</td>\n",
       "      <td>0.04</td>\n",
       "    </tr>\n",
       "    <tr>\n",
       "      <th>compactness_worst</th>\n",
       "      <td>0.01</td>\n",
       "      <td>0.02</td>\n",
       "    </tr>\n",
       "    <tr>\n",
       "      <th>concavity_mean</th>\n",
       "      <td>0.02</td>\n",
       "      <td>0.02</td>\n",
       "    </tr>\n",
       "    <tr>\n",
       "      <th>concavity_sd_error</th>\n",
       "      <td>0.00</td>\n",
       "      <td>0.00</td>\n",
       "    </tr>\n",
       "    <tr>\n",
       "      <th>concavity_worst</th>\n",
       "      <td>13.38</td>\n",
       "      <td>21.13</td>\n",
       "    </tr>\n",
       "    <tr>\n",
       "      <th>concave_points_mean</th>\n",
       "      <td>23.52</td>\n",
       "      <td>29.32</td>\n",
       "    </tr>\n",
       "    <tr>\n",
       "      <th>concave_points_sd_error</th>\n",
       "      <td>87.01</td>\n",
       "      <td>141.37</td>\n",
       "    </tr>\n",
       "    <tr>\n",
       "      <th>concave_points_worst</th>\n",
       "      <td>558.90</td>\n",
       "      <td>1422.29</td>\n",
       "    </tr>\n",
       "    <tr>\n",
       "      <th>symmetry_mean</th>\n",
       "      <td>0.12</td>\n",
       "      <td>0.14</td>\n",
       "    </tr>\n",
       "    <tr>\n",
       "      <th>symmetry_sd_error</th>\n",
       "      <td>0.18</td>\n",
       "      <td>0.37</td>\n",
       "    </tr>\n",
       "    <tr>\n",
       "      <th>symmetry_worst</th>\n",
       "      <td>0.17</td>\n",
       "      <td>0.45</td>\n",
       "    </tr>\n",
       "    <tr>\n",
       "      <th>fractal_dimension_mean</th>\n",
       "      <td>0.07</td>\n",
       "      <td>0.18</td>\n",
       "    </tr>\n",
       "    <tr>\n",
       "      <th>fractal_dimension_sd_error</th>\n",
       "      <td>0.27</td>\n",
       "      <td>0.32</td>\n",
       "    </tr>\n",
       "    <tr>\n",
       "      <th>fractal_dimension_worst</th>\n",
       "      <td>0.08</td>\n",
       "      <td>0.09</td>\n",
       "    </tr>\n",
       "  </tbody>\n",
       "</table>\n",
       "</div>"
      ],
      "text/plain": [
       "diagnosis                             B            M\n",
       "ID                          26543824.62  36818050.44\n",
       "radius_mean                       12.15        17.46\n",
       "radius_sd_error                   17.91        21.60\n",
       "radius_worst                      78.08       115.37\n",
       "texture_mean                     462.79       978.38\n",
       "texture_sd_error                   0.09         0.10\n",
       "texture_worst                      0.08         0.15\n",
       "perimeter_mean                     0.05         0.16\n",
       "perimeter_sd_error                 0.03         0.09\n",
       "perimeter_worst                    0.17         0.19\n",
       "area_mean                          0.06         0.06\n",
       "area_sd_error                      0.28         0.61\n",
       "area_worst                         1.22         1.21\n",
       "smoothness_mean                    2.00         4.32\n",
       "smoothness_sd_error               21.14        72.67\n",
       "smoothness_worst                   0.01         0.01\n",
       "compactness_mean                   0.02         0.03\n",
       "compactness_sd_error               0.03         0.04\n",
       "compactness_worst                  0.01         0.02\n",
       "concavity_mean                     0.02         0.02\n",
       "concavity_sd_error                 0.00         0.00\n",
       "concavity_worst                   13.38        21.13\n",
       "concave_points_mean               23.52        29.32\n",
       "concave_points_sd_error           87.01       141.37\n",
       "concave_points_worst             558.90      1422.29\n",
       "symmetry_mean                      0.12         0.14\n",
       "symmetry_sd_error                  0.18         0.37\n",
       "symmetry_worst                     0.17         0.45\n",
       "fractal_dimension_mean             0.07         0.18\n",
       "fractal_dimension_sd_error         0.27         0.32\n",
       "fractal_dimension_worst            0.08         0.09"
      ]
     },
     "execution_count": 10,
     "metadata": {},
     "output_type": "execute_result"
    }
   ],
   "source": [
    "np.round(bcdf.groupby(by='diagnosis').mean().T, decimals=2)"
   ]
  },
  {
   "cell_type": "markdown",
   "metadata": {},
   "source": [
    "While eyeballing these averages can provide a quick overview for major differences, such as texture_mean, or concave_points_worst, it is difficult to know if the smaller differences are statistically significant. Thus, a simple 2-tailed t-test is a great place to start. In order to do that, first I'll create separate dataframes for each type of tumor to then compare the differences between the two. "
   ]
  },
  {
   "cell_type": "code",
   "execution_count": 11,
   "metadata": {},
   "outputs": [],
   "source": [
    "# creating 2 separate dataframes where the data in each is exclusive to that type of tumor\n",
    "benign = bcdf[bcdf.diagnosis == \"B\"]\n",
    "malignant = bcdf[bcdf.diagnosis == 'M']"
   ]
  },
  {
   "cell_type": "code",
   "execution_count": null,
   "metadata": {},
   "outputs": [],
   "source": [
    "benign.drop(columns=['ID', 'diagnosis'], inplace=True)\n",
    "malignant.drop(columns=['ID', 'diagnosis'], inplace=True)"
   ]
  },
  {
   "cell_type": "markdown",
   "metadata": {},
   "source": [
    "Here, I am running the 2-tailed t-tests and assigninng the t-scores and the p-values to t and p, respectively"
   ]
  },
  {
   "cell_type": "code",
   "execution_count": 13,
   "metadata": {},
   "outputs": [],
   "source": [
    "t, p = stats.ttest_ind(benign, malignant, equal_var=False)"
   ]
  },
  {
   "cell_type": "markdown",
   "metadata": {},
   "source": [
    "To make the statistics easy to digest, I'm going to turn it into a dataframe"
   ]
  },
  {
   "cell_type": "code",
   "execution_count": 14,
   "metadata": {},
   "outputs": [
    {
     "data": {
      "text/html": [
       "<div>\n",
       "<style scoped>\n",
       "    .dataframe tbody tr th:only-of-type {\n",
       "        vertical-align: middle;\n",
       "    }\n",
       "\n",
       "    .dataframe tbody tr th {\n",
       "        vertical-align: top;\n",
       "    }\n",
       "\n",
       "    .dataframe thead th {\n",
       "        text-align: right;\n",
       "    }\n",
       "</style>\n",
       "<table border=\"1\" class=\"dataframe\">\n",
       "  <thead>\n",
       "    <tr style=\"text-align: right;\">\n",
       "      <th></th>\n",
       "      <th>t-score</th>\n",
       "      <th>p-value</th>\n",
       "    </tr>\n",
       "  </thead>\n",
       "  <tbody>\n",
       "    <tr>\n",
       "      <th>radius_mean</th>\n",
       "      <td>-22.208798</td>\n",
       "      <td>1.684459e-64</td>\n",
       "    </tr>\n",
       "    <tr>\n",
       "      <th>radius_sd_error</th>\n",
       "      <td>-11.022087</td>\n",
       "      <td>3.019055e-25</td>\n",
       "    </tr>\n",
       "    <tr>\n",
       "      <th>radius_worst</th>\n",
       "      <td>-22.935314</td>\n",
       "      <td>1.023141e-66</td>\n",
       "    </tr>\n",
       "    <tr>\n",
       "      <th>texture_mean</th>\n",
       "      <td>-19.640990</td>\n",
       "      <td>3.284366e-52</td>\n",
       "    </tr>\n",
       "    <tr>\n",
       "      <th>texture_sd_error</th>\n",
       "      <td>-9.297355</td>\n",
       "      <td>5.573331e-19</td>\n",
       "    </tr>\n",
       "    <tr>\n",
       "      <th>texture_worst</th>\n",
       "      <td>-15.818246</td>\n",
       "      <td>9.607863e-42</td>\n",
       "    </tr>\n",
       "    <tr>\n",
       "      <th>perimeter_mean</th>\n",
       "      <td>-20.332425</td>\n",
       "      <td>3.742121e-58</td>\n",
       "    </tr>\n",
       "    <tr>\n",
       "      <th>perimeter_sd_error</th>\n",
       "      <td>-24.844810</td>\n",
       "      <td>3.127316e-71</td>\n",
       "    </tr>\n",
       "    <tr>\n",
       "      <th>perimeter_worst</th>\n",
       "      <td>-8.112198</td>\n",
       "      <td>5.957651e-15</td>\n",
       "    </tr>\n",
       "    <tr>\n",
       "      <th>area_mean</th>\n",
       "      <td>0.296866</td>\n",
       "      <td>7.667216e-01</td>\n",
       "    </tr>\n",
       "    <tr>\n",
       "      <th>area_sd_error</th>\n",
       "      <td>-13.300706</td>\n",
       "      <td>1.491133e-30</td>\n",
       "    </tr>\n",
       "    <tr>\n",
       "      <th>area_worst</th>\n",
       "      <td>0.207865</td>\n",
       "      <td>8.354171e-01</td>\n",
       "    </tr>\n",
       "    <tr>\n",
       "      <th>smoothness_mean</th>\n",
       "      <td>-12.832763</td>\n",
       "      <td>6.868553e-29</td>\n",
       "    </tr>\n",
       "    <tr>\n",
       "      <th>smoothness_sd_error</th>\n",
       "      <td>-12.155556</td>\n",
       "      <td>2.983568e-26</td>\n",
       "    </tr>\n",
       "    <tr>\n",
       "      <th>smoothness_worst</th>\n",
       "      <td>1.622869</td>\n",
       "      <td>1.052970e-01</td>\n",
       "    </tr>\n",
       "    <tr>\n",
       "      <th>compactness_mean</th>\n",
       "      <td>-7.082641</td>\n",
       "      <td>6.341807e-12</td>\n",
       "    </tr>\n",
       "    <tr>\n",
       "      <th>compactness_sd_error</th>\n",
       "      <td>-6.916305</td>\n",
       "      <td>1.266514e-11</td>\n",
       "    </tr>\n",
       "    <tr>\n",
       "      <th>compactness_worst</th>\n",
       "      <td>-10.735452</td>\n",
       "      <td>4.042197e-24</td>\n",
       "    </tr>\n",
       "    <tr>\n",
       "      <th>concavity_mean</th>\n",
       "      <td>0.142055</td>\n",
       "      <td>8.871223e-01</td>\n",
       "    </tr>\n",
       "    <tr>\n",
       "      <th>concavity_sd_error</th>\n",
       "      <td>-2.036236</td>\n",
       "      <td>4.220238e-02</td>\n",
       "    </tr>\n",
       "    <tr>\n",
       "      <th>concavity_worst</th>\n",
       "      <td>-24.829745</td>\n",
       "      <td>3.556557e-71</td>\n",
       "    </tr>\n",
       "    <tr>\n",
       "      <th>concave_points_mean</th>\n",
       "      <td>-12.264826</td>\n",
       "      <td>5.198708e-30</td>\n",
       "    </tr>\n",
       "    <tr>\n",
       "      <th>concave_points_sd_error</th>\n",
       "      <td>-25.332210</td>\n",
       "      <td>1.032730e-72</td>\n",
       "    </tr>\n",
       "    <tr>\n",
       "      <th>concave_points_worst</th>\n",
       "      <td>-20.570814</td>\n",
       "      <td>4.937924e-54</td>\n",
       "    </tr>\n",
       "    <tr>\n",
       "      <th>symmetry_mean</th>\n",
       "      <td>-10.819553</td>\n",
       "      <td>3.474376e-24</td>\n",
       "    </tr>\n",
       "    <tr>\n",
       "      <th>symmetry_sd_error</th>\n",
       "      <td>-15.156872</td>\n",
       "      <td>1.749835e-38</td>\n",
       "    </tr>\n",
       "    <tr>\n",
       "      <th>symmetry_worst</th>\n",
       "      <td>-19.595726</td>\n",
       "      <td>9.852484e-59</td>\n",
       "    </tr>\n",
       "    <tr>\n",
       "      <th>fractal_dimension_mean</th>\n",
       "      <td>-29.117659</td>\n",
       "      <td>1.061454e-96</td>\n",
       "    </tr>\n",
       "    <tr>\n",
       "      <th>fractal_dimension_sd_error</th>\n",
       "      <td>-9.529504</td>\n",
       "      <td>6.562499e-19</td>\n",
       "    </tr>\n",
       "    <tr>\n",
       "      <th>fractal_dimension_worst</th>\n",
       "      <td>-7.322730</td>\n",
       "      <td>2.041904e-12</td>\n",
       "    </tr>\n",
       "  </tbody>\n",
       "</table>\n",
       "</div>"
      ],
      "text/plain": [
       "                              t-score       p-value\n",
       "radius_mean                -22.208798  1.684459e-64\n",
       "radius_sd_error            -11.022087  3.019055e-25\n",
       "radius_worst               -22.935314  1.023141e-66\n",
       "texture_mean               -19.640990  3.284366e-52\n",
       "texture_sd_error            -9.297355  5.573331e-19\n",
       "texture_worst              -15.818246  9.607863e-42\n",
       "perimeter_mean             -20.332425  3.742121e-58\n",
       "perimeter_sd_error         -24.844810  3.127316e-71\n",
       "perimeter_worst             -8.112198  5.957651e-15\n",
       "area_mean                    0.296866  7.667216e-01\n",
       "area_sd_error              -13.300706  1.491133e-30\n",
       "area_worst                   0.207865  8.354171e-01\n",
       "smoothness_mean            -12.832763  6.868553e-29\n",
       "smoothness_sd_error        -12.155556  2.983568e-26\n",
       "smoothness_worst             1.622869  1.052970e-01\n",
       "compactness_mean            -7.082641  6.341807e-12\n",
       "compactness_sd_error        -6.916305  1.266514e-11\n",
       "compactness_worst          -10.735452  4.042197e-24\n",
       "concavity_mean               0.142055  8.871223e-01\n",
       "concavity_sd_error          -2.036236  4.220238e-02\n",
       "concavity_worst            -24.829745  3.556557e-71\n",
       "concave_points_mean        -12.264826  5.198708e-30\n",
       "concave_points_sd_error    -25.332210  1.032730e-72\n",
       "concave_points_worst       -20.570814  4.937924e-54\n",
       "symmetry_mean              -10.819553  3.474376e-24\n",
       "symmetry_sd_error          -15.156872  1.749835e-38\n",
       "symmetry_worst             -19.595726  9.852484e-59\n",
       "fractal_dimension_mean     -29.117659  1.061454e-96\n",
       "fractal_dimension_sd_error  -9.529504  6.562499e-19\n",
       "fractal_dimension_worst     -7.322730  2.041904e-12"
      ]
     },
     "execution_count": 14,
     "metadata": {},
     "output_type": "execute_result"
    }
   ],
   "source": [
    "pd.DataFrame(data=[t, p], columns=benign.columns, index=['t-score', 'p-value']).T"
   ]
  },
  {
   "cell_type": "markdown",
   "metadata": {},
   "source": [
    "As we can see, most of the differences between the mean scores of the benign and malignant samples are statistically significant, but that is not the end of the story. Averages can be greatly skewed by outliers, so taking a look at the median values is also important. As before, I'll use a simple groupby, but this time looking at the median values of all the features by diagnosis, instead of mean. "
   ]
  },
  {
   "cell_type": "code",
   "execution_count": 15,
   "metadata": {},
   "outputs": [
    {
     "data": {
      "text/html": [
       "<div>\n",
       "<style scoped>\n",
       "    .dataframe tbody tr th:only-of-type {\n",
       "        vertical-align: middle;\n",
       "    }\n",
       "\n",
       "    .dataframe tbody tr th {\n",
       "        vertical-align: top;\n",
       "    }\n",
       "\n",
       "    .dataframe thead th {\n",
       "        text-align: right;\n",
       "    }\n",
       "</style>\n",
       "<table border=\"1\" class=\"dataframe\">\n",
       "  <thead>\n",
       "    <tr style=\"text-align: right;\">\n",
       "      <th>diagnosis</th>\n",
       "      <th>B</th>\n",
       "      <th>M</th>\n",
       "    </tr>\n",
       "  </thead>\n",
       "  <tbody>\n",
       "    <tr>\n",
       "      <th>ID</th>\n",
       "      <td>908916.00</td>\n",
       "      <td>895366.50</td>\n",
       "    </tr>\n",
       "    <tr>\n",
       "      <th>radius_mean</th>\n",
       "      <td>12.20</td>\n",
       "      <td>17.33</td>\n",
       "    </tr>\n",
       "    <tr>\n",
       "      <th>radius_sd_error</th>\n",
       "      <td>17.39</td>\n",
       "      <td>21.46</td>\n",
       "    </tr>\n",
       "    <tr>\n",
       "      <th>radius_worst</th>\n",
       "      <td>78.18</td>\n",
       "      <td>114.20</td>\n",
       "    </tr>\n",
       "    <tr>\n",
       "      <th>texture_mean</th>\n",
       "      <td>458.40</td>\n",
       "      <td>932.00</td>\n",
       "    </tr>\n",
       "    <tr>\n",
       "      <th>texture_sd_error</th>\n",
       "      <td>0.09</td>\n",
       "      <td>0.10</td>\n",
       "    </tr>\n",
       "    <tr>\n",
       "      <th>texture_worst</th>\n",
       "      <td>0.08</td>\n",
       "      <td>0.13</td>\n",
       "    </tr>\n",
       "    <tr>\n",
       "      <th>perimeter_mean</th>\n",
       "      <td>0.04</td>\n",
       "      <td>0.15</td>\n",
       "    </tr>\n",
       "    <tr>\n",
       "      <th>perimeter_sd_error</th>\n",
       "      <td>0.02</td>\n",
       "      <td>0.09</td>\n",
       "    </tr>\n",
       "    <tr>\n",
       "      <th>perimeter_worst</th>\n",
       "      <td>0.17</td>\n",
       "      <td>0.19</td>\n",
       "    </tr>\n",
       "    <tr>\n",
       "      <th>area_mean</th>\n",
       "      <td>0.06</td>\n",
       "      <td>0.06</td>\n",
       "    </tr>\n",
       "    <tr>\n",
       "      <th>area_sd_error</th>\n",
       "      <td>0.26</td>\n",
       "      <td>0.55</td>\n",
       "    </tr>\n",
       "    <tr>\n",
       "      <th>area_worst</th>\n",
       "      <td>1.11</td>\n",
       "      <td>1.10</td>\n",
       "    </tr>\n",
       "    <tr>\n",
       "      <th>smoothness_mean</th>\n",
       "      <td>1.85</td>\n",
       "      <td>3.68</td>\n",
       "    </tr>\n",
       "    <tr>\n",
       "      <th>smoothness_sd_error</th>\n",
       "      <td>19.63</td>\n",
       "      <td>58.46</td>\n",
       "    </tr>\n",
       "    <tr>\n",
       "      <th>smoothness_worst</th>\n",
       "      <td>0.01</td>\n",
       "      <td>0.01</td>\n",
       "    </tr>\n",
       "    <tr>\n",
       "      <th>compactness_mean</th>\n",
       "      <td>0.02</td>\n",
       "      <td>0.03</td>\n",
       "    </tr>\n",
       "    <tr>\n",
       "      <th>compactness_sd_error</th>\n",
       "      <td>0.02</td>\n",
       "      <td>0.04</td>\n",
       "    </tr>\n",
       "    <tr>\n",
       "      <th>compactness_worst</th>\n",
       "      <td>0.01</td>\n",
       "      <td>0.01</td>\n",
       "    </tr>\n",
       "    <tr>\n",
       "      <th>concavity_mean</th>\n",
       "      <td>0.02</td>\n",
       "      <td>0.02</td>\n",
       "    </tr>\n",
       "    <tr>\n",
       "      <th>concavity_sd_error</th>\n",
       "      <td>0.00</td>\n",
       "      <td>0.00</td>\n",
       "    </tr>\n",
       "    <tr>\n",
       "      <th>concavity_worst</th>\n",
       "      <td>13.35</td>\n",
       "      <td>20.59</td>\n",
       "    </tr>\n",
       "    <tr>\n",
       "      <th>concave_points_mean</th>\n",
       "      <td>22.82</td>\n",
       "      <td>28.94</td>\n",
       "    </tr>\n",
       "    <tr>\n",
       "      <th>concave_points_sd_error</th>\n",
       "      <td>86.92</td>\n",
       "      <td>138.00</td>\n",
       "    </tr>\n",
       "    <tr>\n",
       "      <th>concave_points_worst</th>\n",
       "      <td>547.40</td>\n",
       "      <td>1303.00</td>\n",
       "    </tr>\n",
       "    <tr>\n",
       "      <th>symmetry_mean</th>\n",
       "      <td>0.13</td>\n",
       "      <td>0.14</td>\n",
       "    </tr>\n",
       "    <tr>\n",
       "      <th>symmetry_sd_error</th>\n",
       "      <td>0.17</td>\n",
       "      <td>0.36</td>\n",
       "    </tr>\n",
       "    <tr>\n",
       "      <th>symmetry_worst</th>\n",
       "      <td>0.14</td>\n",
       "      <td>0.40</td>\n",
       "    </tr>\n",
       "    <tr>\n",
       "      <th>fractal_dimension_mean</th>\n",
       "      <td>0.07</td>\n",
       "      <td>0.18</td>\n",
       "    </tr>\n",
       "    <tr>\n",
       "      <th>fractal_dimension_sd_error</th>\n",
       "      <td>0.27</td>\n",
       "      <td>0.31</td>\n",
       "    </tr>\n",
       "    <tr>\n",
       "      <th>fractal_dimension_worst</th>\n",
       "      <td>0.08</td>\n",
       "      <td>0.09</td>\n",
       "    </tr>\n",
       "  </tbody>\n",
       "</table>\n",
       "</div>"
      ],
      "text/plain": [
       "diagnosis                           B          M\n",
       "ID                          908916.00  895366.50\n",
       "radius_mean                     12.20      17.33\n",
       "radius_sd_error                 17.39      21.46\n",
       "radius_worst                    78.18     114.20\n",
       "texture_mean                   458.40     932.00\n",
       "texture_sd_error                 0.09       0.10\n",
       "texture_worst                    0.08       0.13\n",
       "perimeter_mean                   0.04       0.15\n",
       "perimeter_sd_error               0.02       0.09\n",
       "perimeter_worst                  0.17       0.19\n",
       "area_mean                        0.06       0.06\n",
       "area_sd_error                    0.26       0.55\n",
       "area_worst                       1.11       1.10\n",
       "smoothness_mean                  1.85       3.68\n",
       "smoothness_sd_error             19.63      58.46\n",
       "smoothness_worst                 0.01       0.01\n",
       "compactness_mean                 0.02       0.03\n",
       "compactness_sd_error             0.02       0.04\n",
       "compactness_worst                0.01       0.01\n",
       "concavity_mean                   0.02       0.02\n",
       "concavity_sd_error               0.00       0.00\n",
       "concavity_worst                 13.35      20.59\n",
       "concave_points_mean             22.82      28.94\n",
       "concave_points_sd_error         86.92     138.00\n",
       "concave_points_worst           547.40    1303.00\n",
       "symmetry_mean                    0.13       0.14\n",
       "symmetry_sd_error                0.17       0.36\n",
       "symmetry_worst                   0.14       0.40\n",
       "fractal_dimension_mean           0.07       0.18\n",
       "fractal_dimension_sd_error       0.27       0.31\n",
       "fractal_dimension_worst          0.08       0.09"
      ]
     },
     "execution_count": 15,
     "metadata": {},
     "output_type": "execute_result"
    }
   ],
   "source": [
    "np.round(bcdf.groupby(by='diagnosis').median().T, decimals=2)"
   ]
  },
  {
   "cell_type": "markdown",
   "metadata": {},
   "source": [
    "To more easily see the values side by side, I'll combine them into one dataframe, so we can see outliers"
   ]
  },
  {
   "cell_type": "code",
   "execution_count": 20,
   "metadata": {},
   "outputs": [],
   "source": [
    "# first, the dataframe for median, with distinct column names to avoid confusion\n",
    "median = np.round(bcdf.groupby(by='diagnosis').median().T, decimals=2)\n",
    "median.rename(columns={'B':'B-Median', 'M': 'M-Median'}, inplace=True)\n",
    "\n",
    "# same thing as above, except for mean this time\n",
    "mean = np.round(bcdf.groupby(by='diagnosis').mean().T, decimals=2)\n",
    "mean.rename(columns={'B':'B-Mean', 'M': 'M-Mean'}, inplace=True)\n",
    "\n",
    "# combining the two into 1 dataframe\n",
    "diagnosisdf = pd.concat([median, mean], axis=1)"
   ]
  },
  {
   "cell_type": "code",
   "execution_count": 21,
   "metadata": {},
   "outputs": [
    {
     "data": {
      "text/html": [
       "<div>\n",
       "<style scoped>\n",
       "    .dataframe tbody tr th:only-of-type {\n",
       "        vertical-align: middle;\n",
       "    }\n",
       "\n",
       "    .dataframe tbody tr th {\n",
       "        vertical-align: top;\n",
       "    }\n",
       "\n",
       "    .dataframe thead th {\n",
       "        text-align: right;\n",
       "    }\n",
       "</style>\n",
       "<table border=\"1\" class=\"dataframe\">\n",
       "  <thead>\n",
       "    <tr style=\"text-align: right;\">\n",
       "      <th>diagnosis</th>\n",
       "      <th>B-Median</th>\n",
       "      <th>M-Median</th>\n",
       "      <th>B-Mean</th>\n",
       "      <th>M-Mean</th>\n",
       "    </tr>\n",
       "  </thead>\n",
       "  <tbody>\n",
       "    <tr>\n",
       "      <th>ID</th>\n",
       "      <td>908916.00</td>\n",
       "      <td>895366.50</td>\n",
       "      <td>26543824.62</td>\n",
       "      <td>36818050.44</td>\n",
       "    </tr>\n",
       "    <tr>\n",
       "      <th>radius_mean</th>\n",
       "      <td>12.20</td>\n",
       "      <td>17.33</td>\n",
       "      <td>12.15</td>\n",
       "      <td>17.46</td>\n",
       "    </tr>\n",
       "    <tr>\n",
       "      <th>radius_sd_error</th>\n",
       "      <td>17.39</td>\n",
       "      <td>21.46</td>\n",
       "      <td>17.91</td>\n",
       "      <td>21.60</td>\n",
       "    </tr>\n",
       "    <tr>\n",
       "      <th>radius_worst</th>\n",
       "      <td>78.18</td>\n",
       "      <td>114.20</td>\n",
       "      <td>78.08</td>\n",
       "      <td>115.37</td>\n",
       "    </tr>\n",
       "    <tr>\n",
       "      <th>texture_mean</th>\n",
       "      <td>458.40</td>\n",
       "      <td>932.00</td>\n",
       "      <td>462.79</td>\n",
       "      <td>978.38</td>\n",
       "    </tr>\n",
       "    <tr>\n",
       "      <th>texture_sd_error</th>\n",
       "      <td>0.09</td>\n",
       "      <td>0.10</td>\n",
       "      <td>0.09</td>\n",
       "      <td>0.10</td>\n",
       "    </tr>\n",
       "    <tr>\n",
       "      <th>texture_worst</th>\n",
       "      <td>0.08</td>\n",
       "      <td>0.13</td>\n",
       "      <td>0.08</td>\n",
       "      <td>0.15</td>\n",
       "    </tr>\n",
       "    <tr>\n",
       "      <th>perimeter_mean</th>\n",
       "      <td>0.04</td>\n",
       "      <td>0.15</td>\n",
       "      <td>0.05</td>\n",
       "      <td>0.16</td>\n",
       "    </tr>\n",
       "    <tr>\n",
       "      <th>perimeter_sd_error</th>\n",
       "      <td>0.02</td>\n",
       "      <td>0.09</td>\n",
       "      <td>0.03</td>\n",
       "      <td>0.09</td>\n",
       "    </tr>\n",
       "    <tr>\n",
       "      <th>perimeter_worst</th>\n",
       "      <td>0.17</td>\n",
       "      <td>0.19</td>\n",
       "      <td>0.17</td>\n",
       "      <td>0.19</td>\n",
       "    </tr>\n",
       "    <tr>\n",
       "      <th>area_mean</th>\n",
       "      <td>0.06</td>\n",
       "      <td>0.06</td>\n",
       "      <td>0.06</td>\n",
       "      <td>0.06</td>\n",
       "    </tr>\n",
       "    <tr>\n",
       "      <th>area_sd_error</th>\n",
       "      <td>0.26</td>\n",
       "      <td>0.55</td>\n",
       "      <td>0.28</td>\n",
       "      <td>0.61</td>\n",
       "    </tr>\n",
       "    <tr>\n",
       "      <th>area_worst</th>\n",
       "      <td>1.11</td>\n",
       "      <td>1.10</td>\n",
       "      <td>1.22</td>\n",
       "      <td>1.21</td>\n",
       "    </tr>\n",
       "    <tr>\n",
       "      <th>smoothness_mean</th>\n",
       "      <td>1.85</td>\n",
       "      <td>3.68</td>\n",
       "      <td>2.00</td>\n",
       "      <td>4.32</td>\n",
       "    </tr>\n",
       "    <tr>\n",
       "      <th>smoothness_sd_error</th>\n",
       "      <td>19.63</td>\n",
       "      <td>58.46</td>\n",
       "      <td>21.14</td>\n",
       "      <td>72.67</td>\n",
       "    </tr>\n",
       "    <tr>\n",
       "      <th>smoothness_worst</th>\n",
       "      <td>0.01</td>\n",
       "      <td>0.01</td>\n",
       "      <td>0.01</td>\n",
       "      <td>0.01</td>\n",
       "    </tr>\n",
       "    <tr>\n",
       "      <th>compactness_mean</th>\n",
       "      <td>0.02</td>\n",
       "      <td>0.03</td>\n",
       "      <td>0.02</td>\n",
       "      <td>0.03</td>\n",
       "    </tr>\n",
       "    <tr>\n",
       "      <th>compactness_sd_error</th>\n",
       "      <td>0.02</td>\n",
       "      <td>0.04</td>\n",
       "      <td>0.03</td>\n",
       "      <td>0.04</td>\n",
       "    </tr>\n",
       "    <tr>\n",
       "      <th>compactness_worst</th>\n",
       "      <td>0.01</td>\n",
       "      <td>0.01</td>\n",
       "      <td>0.01</td>\n",
       "      <td>0.02</td>\n",
       "    </tr>\n",
       "    <tr>\n",
       "      <th>concavity_mean</th>\n",
       "      <td>0.02</td>\n",
       "      <td>0.02</td>\n",
       "      <td>0.02</td>\n",
       "      <td>0.02</td>\n",
       "    </tr>\n",
       "    <tr>\n",
       "      <th>concavity_sd_error</th>\n",
       "      <td>0.00</td>\n",
       "      <td>0.00</td>\n",
       "      <td>0.00</td>\n",
       "      <td>0.00</td>\n",
       "    </tr>\n",
       "    <tr>\n",
       "      <th>concavity_worst</th>\n",
       "      <td>13.35</td>\n",
       "      <td>20.59</td>\n",
       "      <td>13.38</td>\n",
       "      <td>21.13</td>\n",
       "    </tr>\n",
       "    <tr>\n",
       "      <th>concave_points_mean</th>\n",
       "      <td>22.82</td>\n",
       "      <td>28.94</td>\n",
       "      <td>23.52</td>\n",
       "      <td>29.32</td>\n",
       "    </tr>\n",
       "    <tr>\n",
       "      <th>concave_points_sd_error</th>\n",
       "      <td>86.92</td>\n",
       "      <td>138.00</td>\n",
       "      <td>87.01</td>\n",
       "      <td>141.37</td>\n",
       "    </tr>\n",
       "    <tr>\n",
       "      <th>concave_points_worst</th>\n",
       "      <td>547.40</td>\n",
       "      <td>1303.00</td>\n",
       "      <td>558.90</td>\n",
       "      <td>1422.29</td>\n",
       "    </tr>\n",
       "    <tr>\n",
       "      <th>symmetry_mean</th>\n",
       "      <td>0.13</td>\n",
       "      <td>0.14</td>\n",
       "      <td>0.12</td>\n",
       "      <td>0.14</td>\n",
       "    </tr>\n",
       "    <tr>\n",
       "      <th>symmetry_sd_error</th>\n",
       "      <td>0.17</td>\n",
       "      <td>0.36</td>\n",
       "      <td>0.18</td>\n",
       "      <td>0.37</td>\n",
       "    </tr>\n",
       "    <tr>\n",
       "      <th>symmetry_worst</th>\n",
       "      <td>0.14</td>\n",
       "      <td>0.40</td>\n",
       "      <td>0.17</td>\n",
       "      <td>0.45</td>\n",
       "    </tr>\n",
       "    <tr>\n",
       "      <th>fractal_dimension_mean</th>\n",
       "      <td>0.07</td>\n",
       "      <td>0.18</td>\n",
       "      <td>0.07</td>\n",
       "      <td>0.18</td>\n",
       "    </tr>\n",
       "    <tr>\n",
       "      <th>fractal_dimension_sd_error</th>\n",
       "      <td>0.27</td>\n",
       "      <td>0.31</td>\n",
       "      <td>0.27</td>\n",
       "      <td>0.32</td>\n",
       "    </tr>\n",
       "    <tr>\n",
       "      <th>fractal_dimension_worst</th>\n",
       "      <td>0.08</td>\n",
       "      <td>0.09</td>\n",
       "      <td>0.08</td>\n",
       "      <td>0.09</td>\n",
       "    </tr>\n",
       "  </tbody>\n",
       "</table>\n",
       "</div>"
      ],
      "text/plain": [
       "diagnosis                    B-Median   M-Median       B-Mean       M-Mean\n",
       "ID                          908916.00  895366.50  26543824.62  36818050.44\n",
       "radius_mean                     12.20      17.33        12.15        17.46\n",
       "radius_sd_error                 17.39      21.46        17.91        21.60\n",
       "radius_worst                    78.18     114.20        78.08       115.37\n",
       "texture_mean                   458.40     932.00       462.79       978.38\n",
       "texture_sd_error                 0.09       0.10         0.09         0.10\n",
       "texture_worst                    0.08       0.13         0.08         0.15\n",
       "perimeter_mean                   0.04       0.15         0.05         0.16\n",
       "perimeter_sd_error               0.02       0.09         0.03         0.09\n",
       "perimeter_worst                  0.17       0.19         0.17         0.19\n",
       "area_mean                        0.06       0.06         0.06         0.06\n",
       "area_sd_error                    0.26       0.55         0.28         0.61\n",
       "area_worst                       1.11       1.10         1.22         1.21\n",
       "smoothness_mean                  1.85       3.68         2.00         4.32\n",
       "smoothness_sd_error             19.63      58.46        21.14        72.67\n",
       "smoothness_worst                 0.01       0.01         0.01         0.01\n",
       "compactness_mean                 0.02       0.03         0.02         0.03\n",
       "compactness_sd_error             0.02       0.04         0.03         0.04\n",
       "compactness_worst                0.01       0.01         0.01         0.02\n",
       "concavity_mean                   0.02       0.02         0.02         0.02\n",
       "concavity_sd_error               0.00       0.00         0.00         0.00\n",
       "concavity_worst                 13.35      20.59        13.38        21.13\n",
       "concave_points_mean             22.82      28.94        23.52        29.32\n",
       "concave_points_sd_error         86.92     138.00        87.01       141.37\n",
       "concave_points_worst           547.40    1303.00       558.90      1422.29\n",
       "symmetry_mean                    0.13       0.14         0.12         0.14\n",
       "symmetry_sd_error                0.17       0.36         0.18         0.37\n",
       "symmetry_worst                   0.14       0.40         0.17         0.45\n",
       "fractal_dimension_mean           0.07       0.18         0.07         0.18\n",
       "fractal_dimension_sd_error       0.27       0.31         0.27         0.32\n",
       "fractal_dimension_worst          0.08       0.09         0.08         0.09"
      ]
     },
     "execution_count": 21,
     "metadata": {},
     "output_type": "execute_result"
    }
   ],
   "source": [
    "diagnosisdf"
   ]
  },
  {
   "cell_type": "markdown",
   "metadata": {},
   "source": [
    "Now it is much easier to compare the results side by side. The mean smoothness is indeed higher than the median, indicating that there are large values bringing that average up. However, with compactness, this is not the case, as the values are very close to each other. "
   ]
  },
  {
   "cell_type": "code",
   "execution_count": 22,
   "metadata": {},
   "outputs": [
    {
     "data": {
      "text/plain": [
       "diagnosis\n",
       "B-Median    0.02\n",
       "M-Median    0.03\n",
       "B-Mean      0.02\n",
       "M-Mean      0.03\n",
       "Name: compactness_mean, dtype: float64"
      ]
     },
     "execution_count": 22,
     "metadata": {},
     "output_type": "execute_result"
    }
   ],
   "source": [
    "diagnosisdf.loc['compactness_mean']"
   ]
  },
  {
   "cell_type": "code",
   "execution_count": 23,
   "metadata": {},
   "outputs": [
    {
     "data": {
      "text/plain": [
       "diagnosis\n",
       "B-Median    1.85\n",
       "M-Median    3.68\n",
       "B-Mean      2.00\n",
       "M-Mean      4.32\n",
       "Name: smoothness_mean, dtype: float64"
      ]
     },
     "execution_count": 23,
     "metadata": {},
     "output_type": "execute_result"
    }
   ],
   "source": [
    "diagnosisdf.loc['smoothness_mean']"
   ]
  },
  {
   "cell_type": "markdown",
   "metadata": {},
   "source": [
    "---"
   ]
  },
  {
   "cell_type": "markdown",
   "metadata": {},
   "source": [
    "### Function to generate bootstrap samples of the data"
   ]
  },
  {
   "cell_type": "code",
   "execution_count": 24,
   "metadata": {},
   "outputs": [],
   "source": [
    "def bootstrapper(data, sample_size, random_state):\n",
    "    # First, I set a random seed, to be able to reproduce the bootstrap sampling\n",
    "    np.random.seed(random_state)\n",
    "    \n",
    "    # Next, I use Numpy's random choice function to sample the dataframe's index\n",
    "    # to the user's specified sample size\n",
    "    sample = np.random.choice(data, size=sample_size)\n",
    "    \n",
    "    # Finally, I return the bootstrapped sample as a Numpy array\n",
    "    return sample"
   ]
  },
  {
   "cell_type": "code",
   "execution_count": 25,
   "metadata": {},
   "outputs": [
    {
     "data": {
      "text/plain": [
       "array(['B', 'M', 'B', 'B', 'B', 'B', 'M', 'B', 'M', 'M'], dtype=object)"
      ]
     },
     "execution_count": 25,
     "metadata": {},
     "output_type": "execute_result"
    }
   ],
   "source": [
    "bootstrapper(bcdf.diagnosis, 10, 42)"
   ]
  },
  {
   "cell_type": "markdown",
   "metadata": {},
   "source": [
    "This \"bootstrapper\" function will take in a 1-D array and randomly sample, with replacement, to the user's desired sample size. Of course, if the user wants to sample from an entire dataframe, we can use the resample function, which implements the bootstrapping procedure for sparse and dense matrices. For the sake of brevity, I kept my function simple, but if we wanted to, we could code the entire thing by hand by following and adapting its source code from: https://github.com/scikit-learn/scikit-learn/blob/1495f69242646d239d89a5713982946b8ffcf9d9/sklearn/utils/__init__.py#L226"
   ]
  },
  {
   "cell_type": "code",
   "execution_count": 26,
   "metadata": {},
   "outputs": [],
   "source": [
    "from sklearn.utils import resample"
   ]
  },
  {
   "cell_type": "code",
   "execution_count": 27,
   "metadata": {},
   "outputs": [],
   "source": [
    "def bootstrap2(data, size, random_state):\n",
    "    bootstrap = resample(data, n_samples=size, random_state=random_state)\n",
    "    return bootstrap"
   ]
  },
  {
   "cell_type": "code",
   "execution_count": 28,
   "metadata": {},
   "outputs": [
    {
     "data": {
      "text/html": [
       "<div>\n",
       "<style scoped>\n",
       "    .dataframe tbody tr th:only-of-type {\n",
       "        vertical-align: middle;\n",
       "    }\n",
       "\n",
       "    .dataframe tbody tr th {\n",
       "        vertical-align: top;\n",
       "    }\n",
       "\n",
       "    .dataframe thead th {\n",
       "        text-align: right;\n",
       "    }\n",
       "</style>\n",
       "<table border=\"1\" class=\"dataframe\">\n",
       "  <thead>\n",
       "    <tr style=\"text-align: right;\">\n",
       "      <th></th>\n",
       "      <th>ID</th>\n",
       "      <th>diagnosis</th>\n",
       "      <th>radius_mean</th>\n",
       "      <th>radius_sd_error</th>\n",
       "      <th>radius_worst</th>\n",
       "      <th>texture_mean</th>\n",
       "      <th>texture_sd_error</th>\n",
       "      <th>texture_worst</th>\n",
       "      <th>perimeter_mean</th>\n",
       "      <th>perimeter_sd_error</th>\n",
       "      <th>...</th>\n",
       "      <th>concavity_worst</th>\n",
       "      <th>concave_points_mean</th>\n",
       "      <th>concave_points_sd_error</th>\n",
       "      <th>concave_points_worst</th>\n",
       "      <th>symmetry_mean</th>\n",
       "      <th>symmetry_sd_error</th>\n",
       "      <th>symmetry_worst</th>\n",
       "      <th>fractal_dimension_mean</th>\n",
       "      <th>fractal_dimension_sd_error</th>\n",
       "      <th>fractal_dimension_worst</th>\n",
       "    </tr>\n",
       "  </thead>\n",
       "  <tbody>\n",
       "    <tr>\n",
       "      <th>102</th>\n",
       "      <td>862965</td>\n",
       "      <td>B</td>\n",
       "      <td>12.180</td>\n",
       "      <td>20.52</td>\n",
       "      <td>77.22</td>\n",
       "      <td>458.7</td>\n",
       "      <td>0.08013</td>\n",
       "      <td>0.04038</td>\n",
       "      <td>0.02383</td>\n",
       "      <td>0.01770</td>\n",
       "      <td>...</td>\n",
       "      <td>13.340</td>\n",
       "      <td>32.84</td>\n",
       "      <td>84.58</td>\n",
       "      <td>547.8</td>\n",
       "      <td>0.11230</td>\n",
       "      <td>0.08862</td>\n",
       "      <td>0.11450</td>\n",
       "      <td>0.07431</td>\n",
       "      <td>0.2694</td>\n",
       "      <td>0.06878</td>\n",
       "    </tr>\n",
       "    <tr>\n",
       "      <th>435</th>\n",
       "      <td>908489</td>\n",
       "      <td>M</td>\n",
       "      <td>13.980</td>\n",
       "      <td>19.62</td>\n",
       "      <td>91.12</td>\n",
       "      <td>599.5</td>\n",
       "      <td>0.10600</td>\n",
       "      <td>0.11330</td>\n",
       "      <td>0.11260</td>\n",
       "      <td>0.06463</td>\n",
       "      <td>...</td>\n",
       "      <td>17.040</td>\n",
       "      <td>30.80</td>\n",
       "      <td>113.90</td>\n",
       "      <td>869.3</td>\n",
       "      <td>0.16130</td>\n",
       "      <td>0.35680</td>\n",
       "      <td>0.40690</td>\n",
       "      <td>0.18270</td>\n",
       "      <td>0.3179</td>\n",
       "      <td>0.10550</td>\n",
       "    </tr>\n",
       "    <tr>\n",
       "      <th>270</th>\n",
       "      <td>8910721</td>\n",
       "      <td>B</td>\n",
       "      <td>14.290</td>\n",
       "      <td>16.82</td>\n",
       "      <td>90.30</td>\n",
       "      <td>632.6</td>\n",
       "      <td>0.06429</td>\n",
       "      <td>0.02675</td>\n",
       "      <td>0.00725</td>\n",
       "      <td>0.00625</td>\n",
       "      <td>...</td>\n",
       "      <td>14.910</td>\n",
       "      <td>20.65</td>\n",
       "      <td>94.44</td>\n",
       "      <td>684.6</td>\n",
       "      <td>0.08567</td>\n",
       "      <td>0.05036</td>\n",
       "      <td>0.03866</td>\n",
       "      <td>0.03333</td>\n",
       "      <td>0.2458</td>\n",
       "      <td>0.06120</td>\n",
       "    </tr>\n",
       "    <tr>\n",
       "      <th>106</th>\n",
       "      <td>863031</td>\n",
       "      <td>B</td>\n",
       "      <td>11.640</td>\n",
       "      <td>18.33</td>\n",
       "      <td>75.17</td>\n",
       "      <td>412.5</td>\n",
       "      <td>0.11420</td>\n",
       "      <td>0.10170</td>\n",
       "      <td>0.07070</td>\n",
       "      <td>0.03485</td>\n",
       "      <td>...</td>\n",
       "      <td>13.140</td>\n",
       "      <td>29.26</td>\n",
       "      <td>85.51</td>\n",
       "      <td>521.7</td>\n",
       "      <td>0.16880</td>\n",
       "      <td>0.26600</td>\n",
       "      <td>0.28730</td>\n",
       "      <td>0.12180</td>\n",
       "      <td>0.2806</td>\n",
       "      <td>0.09097</td>\n",
       "    </tr>\n",
       "    <tr>\n",
       "      <th>71</th>\n",
       "      <td>859711</td>\n",
       "      <td>B</td>\n",
       "      <td>8.888</td>\n",
       "      <td>14.64</td>\n",
       "      <td>58.79</td>\n",
       "      <td>244.0</td>\n",
       "      <td>0.09783</td>\n",
       "      <td>0.15310</td>\n",
       "      <td>0.08606</td>\n",
       "      <td>0.02872</td>\n",
       "      <td>...</td>\n",
       "      <td>9.733</td>\n",
       "      <td>15.67</td>\n",
       "      <td>62.56</td>\n",
       "      <td>284.4</td>\n",
       "      <td>0.12070</td>\n",
       "      <td>0.24360</td>\n",
       "      <td>0.14340</td>\n",
       "      <td>0.04786</td>\n",
       "      <td>0.2254</td>\n",
       "      <td>0.10840</td>\n",
       "    </tr>\n",
       "    <tr>\n",
       "      <th>20</th>\n",
       "      <td>8510653</td>\n",
       "      <td>B</td>\n",
       "      <td>13.080</td>\n",
       "      <td>15.71</td>\n",
       "      <td>85.63</td>\n",
       "      <td>520.0</td>\n",
       "      <td>0.10750</td>\n",
       "      <td>0.12700</td>\n",
       "      <td>0.04568</td>\n",
       "      <td>0.03110</td>\n",
       "      <td>...</td>\n",
       "      <td>14.500</td>\n",
       "      <td>20.49</td>\n",
       "      <td>96.09</td>\n",
       "      <td>630.5</td>\n",
       "      <td>0.13120</td>\n",
       "      <td>0.27760</td>\n",
       "      <td>0.18900</td>\n",
       "      <td>0.07283</td>\n",
       "      <td>0.3184</td>\n",
       "      <td>0.08183</td>\n",
       "    </tr>\n",
       "    <tr>\n",
       "      <th>121</th>\n",
       "      <td>86517</td>\n",
       "      <td>M</td>\n",
       "      <td>18.660</td>\n",
       "      <td>17.12</td>\n",
       "      <td>121.40</td>\n",
       "      <td>1077.0</td>\n",
       "      <td>0.10540</td>\n",
       "      <td>0.11000</td>\n",
       "      <td>0.14570</td>\n",
       "      <td>0.08665</td>\n",
       "      <td>...</td>\n",
       "      <td>22.250</td>\n",
       "      <td>24.90</td>\n",
       "      <td>145.40</td>\n",
       "      <td>1549.0</td>\n",
       "      <td>0.15030</td>\n",
       "      <td>0.22910</td>\n",
       "      <td>0.32720</td>\n",
       "      <td>0.16740</td>\n",
       "      <td>0.2894</td>\n",
       "      <td>0.08456</td>\n",
       "    </tr>\n",
       "    <tr>\n",
       "      <th>466</th>\n",
       "      <td>9113455</td>\n",
       "      <td>B</td>\n",
       "      <td>13.140</td>\n",
       "      <td>20.74</td>\n",
       "      <td>85.98</td>\n",
       "      <td>536.9</td>\n",
       "      <td>0.08675</td>\n",
       "      <td>0.10890</td>\n",
       "      <td>0.10850</td>\n",
       "      <td>0.03510</td>\n",
       "      <td>...</td>\n",
       "      <td>14.800</td>\n",
       "      <td>25.46</td>\n",
       "      <td>100.90</td>\n",
       "      <td>689.1</td>\n",
       "      <td>0.13510</td>\n",
       "      <td>0.35490</td>\n",
       "      <td>0.45040</td>\n",
       "      <td>0.11810</td>\n",
       "      <td>0.2563</td>\n",
       "      <td>0.08174</td>\n",
       "    </tr>\n",
       "    <tr>\n",
       "      <th>214</th>\n",
       "      <td>8810955</td>\n",
       "      <td>M</td>\n",
       "      <td>14.190</td>\n",
       "      <td>23.81</td>\n",
       "      <td>92.87</td>\n",
       "      <td>610.7</td>\n",
       "      <td>0.09463</td>\n",
       "      <td>0.13060</td>\n",
       "      <td>0.11150</td>\n",
       "      <td>0.06462</td>\n",
       "      <td>...</td>\n",
       "      <td>16.860</td>\n",
       "      <td>34.85</td>\n",
       "      <td>115.00</td>\n",
       "      <td>811.3</td>\n",
       "      <td>0.15590</td>\n",
       "      <td>0.40590</td>\n",
       "      <td>0.37440</td>\n",
       "      <td>0.17720</td>\n",
       "      <td>0.4724</td>\n",
       "      <td>0.10260</td>\n",
       "    </tr>\n",
       "    <tr>\n",
       "      <th>330</th>\n",
       "      <td>896839</td>\n",
       "      <td>M</td>\n",
       "      <td>16.030</td>\n",
       "      <td>15.51</td>\n",
       "      <td>105.80</td>\n",
       "      <td>793.2</td>\n",
       "      <td>0.09491</td>\n",
       "      <td>0.13710</td>\n",
       "      <td>0.12040</td>\n",
       "      <td>0.07041</td>\n",
       "      <td>...</td>\n",
       "      <td>18.760</td>\n",
       "      <td>21.98</td>\n",
       "      <td>124.30</td>\n",
       "      <td>1070.0</td>\n",
       "      <td>0.14350</td>\n",
       "      <td>0.44780</td>\n",
       "      <td>0.49560</td>\n",
       "      <td>0.19810</td>\n",
       "      <td>0.3019</td>\n",
       "      <td>0.09124</td>\n",
       "    </tr>\n",
       "  </tbody>\n",
       "</table>\n",
       "<p>10 rows × 32 columns</p>\n",
       "</div>"
      ],
      "text/plain": [
       "          ID diagnosis  radius_mean  radius_sd_error  radius_worst  \\\n",
       "102   862965         B       12.180            20.52         77.22   \n",
       "435   908489         M       13.980            19.62         91.12   \n",
       "270  8910721         B       14.290            16.82         90.30   \n",
       "106   863031         B       11.640            18.33         75.17   \n",
       "71    859711         B        8.888            14.64         58.79   \n",
       "20   8510653         B       13.080            15.71         85.63   \n",
       "121    86517         M       18.660            17.12        121.40   \n",
       "466  9113455         B       13.140            20.74         85.98   \n",
       "214  8810955         M       14.190            23.81         92.87   \n",
       "330   896839         M       16.030            15.51        105.80   \n",
       "\n",
       "     texture_mean  texture_sd_error  texture_worst  perimeter_mean  \\\n",
       "102         458.7           0.08013        0.04038         0.02383   \n",
       "435         599.5           0.10600        0.11330         0.11260   \n",
       "270         632.6           0.06429        0.02675         0.00725   \n",
       "106         412.5           0.11420        0.10170         0.07070   \n",
       "71          244.0           0.09783        0.15310         0.08606   \n",
       "20          520.0           0.10750        0.12700         0.04568   \n",
       "121        1077.0           0.10540        0.11000         0.14570   \n",
       "466         536.9           0.08675        0.10890         0.10850   \n",
       "214         610.7           0.09463        0.13060         0.11150   \n",
       "330         793.2           0.09491        0.13710         0.12040   \n",
       "\n",
       "     perimeter_sd_error  ...  concavity_worst  concave_points_mean  \\\n",
       "102             0.01770  ...           13.340                32.84   \n",
       "435             0.06463  ...           17.040                30.80   \n",
       "270             0.00625  ...           14.910                20.65   \n",
       "106             0.03485  ...           13.140                29.26   \n",
       "71              0.02872  ...            9.733                15.67   \n",
       "20              0.03110  ...           14.500                20.49   \n",
       "121             0.08665  ...           22.250                24.90   \n",
       "466             0.03510  ...           14.800                25.46   \n",
       "214             0.06462  ...           16.860                34.85   \n",
       "330             0.07041  ...           18.760                21.98   \n",
       "\n",
       "     concave_points_sd_error  concave_points_worst  symmetry_mean  \\\n",
       "102                    84.58                 547.8        0.11230   \n",
       "435                   113.90                 869.3        0.16130   \n",
       "270                    94.44                 684.6        0.08567   \n",
       "106                    85.51                 521.7        0.16880   \n",
       "71                     62.56                 284.4        0.12070   \n",
       "20                     96.09                 630.5        0.13120   \n",
       "121                   145.40                1549.0        0.15030   \n",
       "466                   100.90                 689.1        0.13510   \n",
       "214                   115.00                 811.3        0.15590   \n",
       "330                   124.30                1070.0        0.14350   \n",
       "\n",
       "     symmetry_sd_error  symmetry_worst  fractal_dimension_mean  \\\n",
       "102            0.08862         0.11450                 0.07431   \n",
       "435            0.35680         0.40690                 0.18270   \n",
       "270            0.05036         0.03866                 0.03333   \n",
       "106            0.26600         0.28730                 0.12180   \n",
       "71             0.24360         0.14340                 0.04786   \n",
       "20             0.27760         0.18900                 0.07283   \n",
       "121            0.22910         0.32720                 0.16740   \n",
       "466            0.35490         0.45040                 0.11810   \n",
       "214            0.40590         0.37440                 0.17720   \n",
       "330            0.44780         0.49560                 0.19810   \n",
       "\n",
       "     fractal_dimension_sd_error  fractal_dimension_worst  \n",
       "102                      0.2694                  0.06878  \n",
       "435                      0.3179                  0.10550  \n",
       "270                      0.2458                  0.06120  \n",
       "106                      0.2806                  0.09097  \n",
       "71                       0.2254                  0.10840  \n",
       "20                       0.3184                  0.08183  \n",
       "121                      0.2894                  0.08456  \n",
       "466                      0.2563                  0.08174  \n",
       "214                      0.4724                  0.10260  \n",
       "330                      0.3019                  0.09124  \n",
       "\n",
       "[10 rows x 32 columns]"
      ]
     },
     "execution_count": 28,
     "metadata": {},
     "output_type": "execute_result"
    }
   ],
   "source": [
    "bootstrap2(bcdf, 10, 42)"
   ]
  },
  {
   "cell_type": "markdown",
   "metadata": {},
   "source": [
    "---"
   ]
  },
  {
   "cell_type": "markdown",
   "metadata": {},
   "source": [
    "## Exploratory Analysis and Modeling"
   ]
  },
  {
   "cell_type": "code",
   "execution_count": 29,
   "metadata": {},
   "outputs": [],
   "source": [
    "import statsmodels.api as sm\n",
    "import matplotlib.pyplot as plt\n",
    "import seaborn as sns\n",
    "%matplotlib inline"
   ]
  },
  {
   "cell_type": "markdown",
   "metadata": {},
   "source": [
    "In order to run a logistic regression model, the endogenous (i.e. 'y' or outcome) variable must be encoded as a dummy variable (i.e. not a string, as it is now). "
   ]
  },
  {
   "cell_type": "code",
   "execution_count": 30,
   "metadata": {},
   "outputs": [],
   "source": [
    "bcdf['malignant'] = pd.get_dummies(bcdf.diagnosis)['M']"
   ]
  },
  {
   "cell_type": "code",
   "execution_count": 31,
   "metadata": {},
   "outputs": [],
   "source": [
    "# setting the outcome and explanatory variables for inclusion in the model as y and X, respectively.\n",
    "y = bcdf.malignant\n",
    "X = bcdf.drop(columns=['diagnosis', 'ID', 'malignant'])"
   ]
  },
  {
   "cell_type": "markdown",
   "metadata": {},
   "source": [
    "However, before running any models, it is often good to check for multicollinearity issues, especially since we can intuit that many of the variables measure very similar things, or are directly related to one another, meaning they would be highly collinear. This would explode the variance of some, if not all of our coefficients, affecting our ability to detect statistical significane, and potentially biasing the results. Below, I have plotted a correlation matrix of all our variables."
   ]
  },
  {
   "cell_type": "code",
   "execution_count": 33,
   "metadata": {},
   "outputs": [
    {
     "data": {
      "text/plain": [
       "Text(0.5, 1, 'Correlation Matrix')"
      ]
     },
     "execution_count": 33,
     "metadata": {},
     "output_type": "execute_result"
    },
    {
     "data": {
      "image/png": "[encoded data removed]",
      "text/plain": [
       "<Figure size 1080x1080 with 2 Axes>"
      ]
     },
     "metadata": {
      "needs_background": "light"
     },
     "output_type": "display_data"
    }
   ],
   "source": [
    "plt.figure(figsize=(15,15))\n",
    "sns.heatmap(X.corr(), annot=True, cmap='viridis')\n",
    "plt.title('Correlation Matrix', fontsize=15)"
   ]
  },
  {
   "cell_type": "markdown",
   "metadata": {},
   "source": [
    "As we can see with the significant presence of yellow squares, there are several variables that are highly correlated with one another. This will likely affect our models ability to converge, and calculate statistical significance. For demonstration purposes, I will leave all the variables in the models to see what happens below, first using Statsmodels, then Sci-Kit Learn."
   ]
  },
  {
   "cell_type": "code",
   "execution_count": 34,
   "metadata": {},
   "outputs": [],
   "source": [
    "# instantiate the model\n",
    "logit = sm.Logit(y, X)"
   ]
  },
  {
   "cell_type": "code",
   "execution_count": 35,
   "metadata": {},
   "outputs": [
    {
     "name": "stdout",
     "output_type": "stream",
     "text": [
      "Optimization terminated successfully.\n",
      "         Current function value: -0.000000\n",
      "         Iterations: 575\n",
      "         Function evaluations: 862\n"
     ]
    }
   ],
   "source": [
    "# fit the regression\n",
    "log_result = logit.fit(method='nm', maxiter=1000)\n",
    "\n",
    "# note that, the model did not run successfully using any of the solvers/optimization algorithms, \n",
    "# because of various convergence errors, I simple chose to display the results of Nelder-Mead, to\n",
    "# discuss the results"
   ]
  },
  {
   "cell_type": "code",
   "execution_count": 36,
   "metadata": {},
   "outputs": [
    {
     "name": "stderr",
     "output_type": "stream",
     "text": [
      "/Users/Hovanes/anaconda3/lib/python3.7/site-packages/statsmodels/base/model.py:492: HessianInversionWarning: Inverting hessian failed, no bse or cov_params available\n",
      "  'available', HessianInversionWarning)\n",
      "/Users/Hovanes/anaconda3/lib/python3.7/site-packages/statsmodels/base/model.py:492: HessianInversionWarning: Inverting hessian failed, no bse or cov_params available\n",
      "  'available', HessianInversionWarning)\n",
      "/Users/Hovanes/anaconda3/lib/python3.7/site-packages/statsmodels/discrete/discrete_model.py:3390: RuntimeWarning: invalid value encountered in double_scalars\n",
      "  return 1 - self.llf/self.llnull\n"
     ]
    },
    {
     "data": {
      "text/html": [
       "<table class=\"simpletable\">\n",
       "<caption>Logit Regression Results</caption>\n",
       "<tr>\n",
       "  <th>Dep. Variable:</th>       <td>malignant</td>    <th>  No. Observations:  </th>  <td>   569</td> \n",
       "</tr>\n",
       "<tr>\n",
       "  <th>Model:</th>                 <td>Logit</td>      <th>  Df Residuals:      </th>  <td>   539</td> \n",
       "</tr>\n",
       "<tr>\n",
       "  <th>Method:</th>                 <td>MLE</td>       <th>  Df Model:          </th>  <td>    29</td> \n",
       "</tr>\n",
       "<tr>\n",
       "  <th>Date:</th>            <td>Fri, 08 Nov 2019</td> <th>  Pseudo R-squ.:     </th>  <td>   nan</td> \n",
       "</tr>\n",
       "<tr>\n",
       "  <th>Time:</th>                <td>07:08:54</td>     <th>  Log-Likelihood:    </th> <td>  0.0000</td>\n",
       "</tr>\n",
       "<tr>\n",
       "  <th>converged:</th>             <td>True</td>       <th>  LL-Null:           </th> <td>  0.0000</td>\n",
       "</tr>\n",
       "<tr>\n",
       "  <th>Covariance Type:</th>     <td>nonrobust</td>    <th>  LLR p-value:       </th>  <td> 1.000</td> \n",
       "</tr>\n",
       "</table>\n",
       "<table class=\"simpletable\">\n",
       "<tr>\n",
       "               <td></td>                 <th>coef</th>     <th>std err</th>      <th>z</th>      <th>P>|z|</th>  <th>[0.025</th>    <th>0.975]</th>  \n",
       "</tr>\n",
       "<tr>\n",
       "  <th>radius_mean</th>                <td>   -0.0447</td> <td> 8.76e+06</td> <td> -5.1e-09</td> <td> 1.000</td> <td>-1.72e+07</td> <td> 1.72e+07</td>\n",
       "</tr>\n",
       "<tr>\n",
       "  <th>radius_sd_error</th>            <td>    0.0015</td> <td> 2.12e+05</td> <td> 7.26e-09</td> <td> 1.000</td> <td>-4.15e+05</td> <td> 4.15e+05</td>\n",
       "</tr>\n",
       "<tr>\n",
       "  <th>radius_worst</th>               <td>    0.0363</td> <td> 9.01e+05</td> <td> 4.02e-08</td> <td> 1.000</td> <td>-1.77e+06</td> <td> 1.77e+06</td>\n",
       "</tr>\n",
       "<tr>\n",
       "  <th>texture_mean</th>               <td>    0.0387</td> <td> 1.51e+05</td> <td> 2.56e-07</td> <td> 1.000</td> <td>-2.96e+05</td> <td> 2.96e+05</td>\n",
       "</tr>\n",
       "<tr>\n",
       "  <th>texture_sd_error</th>           <td>   -0.0086</td> <td> 3.29e+07</td> <td>-2.61e-10</td> <td> 1.000</td> <td>-6.44e+07</td> <td> 6.44e+07</td>\n",
       "</tr>\n",
       "<tr>\n",
       "  <th>texture_worst</th>              <td>    0.0332</td> <td> 4.78e+07</td> <td> 6.93e-10</td> <td> 1.000</td> <td>-9.37e+07</td> <td> 9.37e+07</td>\n",
       "</tr>\n",
       "<tr>\n",
       "  <th>perimeter_mean</th>             <td>   -0.0390</td> <td> 2.39e+07</td> <td>-1.63e-09</td> <td> 1.000</td> <td>-4.68e+07</td> <td> 4.68e+07</td>\n",
       "</tr>\n",
       "<tr>\n",
       "  <th>perimeter_sd_error</th>         <td>   -0.0140</td> <td> 1.04e+08</td> <td>-1.34e-10</td> <td> 1.000</td> <td>-2.05e+08</td> <td> 2.05e+08</td>\n",
       "</tr>\n",
       "<tr>\n",
       "  <th>perimeter_worst</th>            <td>   -0.0140</td> <td> 2.74e+07</td> <td>-5.08e-10</td> <td> 1.000</td> <td>-5.38e+07</td> <td> 5.38e+07</td>\n",
       "</tr>\n",
       "<tr>\n",
       "  <th>area_mean</th>                  <td>    0.0101</td> <td> 8.98e+07</td> <td> 1.12e-10</td> <td> 1.000</td> <td>-1.76e+08</td> <td> 1.76e+08</td>\n",
       "</tr>\n",
       "<tr>\n",
       "  <th>area_sd_error</th>              <td>   -0.0138</td> <td> 3.31e+07</td> <td>-4.16e-10</td> <td> 1.000</td> <td>-6.49e+07</td> <td> 6.49e+07</td>\n",
       "</tr>\n",
       "<tr>\n",
       "  <th>area_worst</th>                 <td>   -0.0156</td> <td>  7.8e+05</td> <td>   -2e-08</td> <td> 1.000</td> <td>-1.53e+06</td> <td> 1.53e+06</td>\n",
       "</tr>\n",
       "<tr>\n",
       "  <th>smoothness_mean</th>            <td>   -0.0011</td> <td> 1.89e+06</td> <td>-5.55e-10</td> <td> 1.000</td> <td>-3.71e+06</td> <td> 3.71e+06</td>\n",
       "</tr>\n",
       "<tr>\n",
       "  <th>smoothness_sd_error</th>        <td>    0.0043</td> <td> 6.12e+05</td> <td> 6.99e-09</td> <td> 1.000</td> <td> -1.2e+06</td> <td>  1.2e+06</td>\n",
       "</tr>\n",
       "<tr>\n",
       "  <th>smoothness_worst</th>           <td>    0.0031</td> <td> 1.32e+08</td> <td> 2.34e-11</td> <td> 1.000</td> <td>-2.59e+08</td> <td> 2.59e+08</td>\n",
       "</tr>\n",
       "<tr>\n",
       "  <th>compactness_mean</th>           <td>   -0.0033</td> <td> 7.35e+07</td> <td>-4.44e-11</td> <td> 1.000</td> <td>-1.44e+08</td> <td> 1.44e+08</td>\n",
       "</tr>\n",
       "<tr>\n",
       "  <th>compactness_sd_error</th>       <td>   -0.0042</td> <td> 7.56e+07</td> <td>-5.51e-11</td> <td> 1.000</td> <td>-1.48e+08</td> <td> 1.48e+08</td>\n",
       "</tr>\n",
       "<tr>\n",
       "  <th>compactness_worst</th>          <td>   -0.0018</td> <td> 1.48e+08</td> <td>-1.25e-11</td> <td> 1.000</td> <td>-2.91e+08</td> <td> 2.91e+08</td>\n",
       "</tr>\n",
       "<tr>\n",
       "  <th>concavity_mean</th>             <td>   -0.0032</td> <td> 5.56e+07</td> <td>-5.84e-11</td> <td> 1.000</td> <td>-1.09e+08</td> <td> 1.09e+08</td>\n",
       "</tr>\n",
       "<tr>\n",
       "  <th>concavity_sd_error</th>         <td>   -0.0068</td> <td> 1.71e+08</td> <td>-3.99e-11</td> <td> 1.000</td> <td>-3.35e+08</td> <td> 3.35e+08</td>\n",
       "</tr>\n",
       "<tr>\n",
       "  <th>concavity_worst</th>            <td>   -0.0033</td> <td> 7.05e+06</td> <td>-4.67e-10</td> <td> 1.000</td> <td>-1.38e+07</td> <td> 1.38e+07</td>\n",
       "</tr>\n",
       "<tr>\n",
       "  <th>concave_points_mean</th>        <td>    0.0027</td> <td>  2.3e+05</td> <td> 1.17e-08</td> <td> 1.000</td> <td> -4.5e+05</td> <td>  4.5e+05</td>\n",
       "</tr>\n",
       "<tr>\n",
       "  <th>concave_points_sd_error</th>    <td>    0.0202</td> <td> 3.98e+05</td> <td> 5.07e-08</td> <td> 1.000</td> <td>-7.79e+05</td> <td> 7.79e+05</td>\n",
       "</tr>\n",
       "<tr>\n",
       "  <th>concave_points_worst</th>       <td>    0.0449</td> <td> 1.46e+05</td> <td> 3.07e-07</td> <td> 1.000</td> <td>-2.87e+05</td> <td> 2.87e+05</td>\n",
       "</tr>\n",
       "<tr>\n",
       "  <th>symmetry_mean</th>              <td>   -0.0095</td> <td> 2.51e+07</td> <td>-3.79e-10</td> <td> 1.000</td> <td>-4.91e+07</td> <td> 4.91e+07</td>\n",
       "</tr>\n",
       "<tr>\n",
       "  <th>symmetry_sd_error</th>          <td>    0.0099</td> <td> 3.83e+07</td> <td> 2.59e-10</td> <td> 1.000</td> <td>-7.51e+07</td> <td> 7.51e+07</td>\n",
       "</tr>\n",
       "<tr>\n",
       "  <th>symmetry_worst</th>             <td>   -0.0061</td> <td> 2.01e+07</td> <td>-3.04e-10</td> <td> 1.000</td> <td>-3.93e+07</td> <td> 3.93e+07</td>\n",
       "</tr>\n",
       "<tr>\n",
       "  <th>fractal_dimension_mean</th>     <td>    0.0023</td> <td> 3.24e+07</td> <td> 7.03e-11</td> <td> 1.000</td> <td>-6.35e+07</td> <td> 6.35e+07</td>\n",
       "</tr>\n",
       "<tr>\n",
       "  <th>fractal_dimension_sd_error</th> <td>   -0.0203</td> <td> 1.33e+07</td> <td>-1.52e-09</td> <td> 1.000</td> <td>-2.61e+07</td> <td> 2.61e+07</td>\n",
       "</tr>\n",
       "<tr>\n",
       "  <th>fractal_dimension_worst</th>    <td>   -0.0006</td> <td> 3.69e+07</td> <td>-1.59e-11</td> <td> 1.000</td> <td>-7.23e+07</td> <td> 7.23e+07</td>\n",
       "</tr>\n",
       "</table><br/><br/>Possibly complete quasi-separation: A fraction 0.37 of observations can be<br/>perfectly predicted. This might indicate that there is complete<br/>quasi-separation. In this case some parameters will not be identified."
      ],
      "text/plain": [
       "<class 'statsmodels.iolib.summary.Summary'>\n",
       "\"\"\"\n",
       "                           Logit Regression Results                           \n",
       "==============================================================================\n",
       "Dep. Variable:              malignant   No. Observations:                  569\n",
       "Model:                          Logit   Df Residuals:                      539\n",
       "Method:                           MLE   Df Model:                           29\n",
       "Date:                Fri, 08 Nov 2019   Pseudo R-squ.:                     nan\n",
       "Time:                        07:08:54   Log-Likelihood:                 0.0000\n",
       "converged:                       True   LL-Null:                        0.0000\n",
       "Covariance Type:            nonrobust   LLR p-value:                     1.000\n",
       "==============================================================================================\n",
       "                                 coef    std err          z      P>|z|      [0.025      0.975]\n",
       "----------------------------------------------------------------------------------------------\n",
       "radius_mean                   -0.0447   8.76e+06   -5.1e-09      1.000   -1.72e+07    1.72e+07\n",
       "radius_sd_error                0.0015   2.12e+05   7.26e-09      1.000   -4.15e+05    4.15e+05\n",
       "radius_worst                   0.0363   9.01e+05   4.02e-08      1.000   -1.77e+06    1.77e+06\n",
       "texture_mean                   0.0387   1.51e+05   2.56e-07      1.000   -2.96e+05    2.96e+05\n",
       "texture_sd_error              -0.0086   3.29e+07  -2.61e-10      1.000   -6.44e+07    6.44e+07\n",
       "texture_worst                  0.0332   4.78e+07   6.93e-10      1.000   -9.37e+07    9.37e+07\n",
       "perimeter_mean                -0.0390   2.39e+07  -1.63e-09      1.000   -4.68e+07    4.68e+07\n",
       "perimeter_sd_error            -0.0140   1.04e+08  -1.34e-10      1.000   -2.05e+08    2.05e+08\n",
       "perimeter_worst               -0.0140   2.74e+07  -5.08e-10      1.000   -5.38e+07    5.38e+07\n",
       "area_mean                      0.0101   8.98e+07   1.12e-10      1.000   -1.76e+08    1.76e+08\n",
       "area_sd_error                 -0.0138   3.31e+07  -4.16e-10      1.000   -6.49e+07    6.49e+07\n",
       "area_worst                    -0.0156    7.8e+05     -2e-08      1.000   -1.53e+06    1.53e+06\n",
       "smoothness_mean               -0.0011   1.89e+06  -5.55e-10      1.000   -3.71e+06    3.71e+06\n",
       "smoothness_sd_error            0.0043   6.12e+05   6.99e-09      1.000    -1.2e+06     1.2e+06\n",
       "smoothness_worst               0.0031   1.32e+08   2.34e-11      1.000   -2.59e+08    2.59e+08\n",
       "compactness_mean              -0.0033   7.35e+07  -4.44e-11      1.000   -1.44e+08    1.44e+08\n",
       "compactness_sd_error          -0.0042   7.56e+07  -5.51e-11      1.000   -1.48e+08    1.48e+08\n",
       "compactness_worst             -0.0018   1.48e+08  -1.25e-11      1.000   -2.91e+08    2.91e+08\n",
       "concavity_mean                -0.0032   5.56e+07  -5.84e-11      1.000   -1.09e+08    1.09e+08\n",
       "concavity_sd_error            -0.0068   1.71e+08  -3.99e-11      1.000   -3.35e+08    3.35e+08\n",
       "concavity_worst               -0.0033   7.05e+06  -4.67e-10      1.000   -1.38e+07    1.38e+07\n",
       "concave_points_mean            0.0027    2.3e+05   1.17e-08      1.000    -4.5e+05     4.5e+05\n",
       "concave_points_sd_error        0.0202   3.98e+05   5.07e-08      1.000   -7.79e+05    7.79e+05\n",
       "concave_points_worst           0.0449   1.46e+05   3.07e-07      1.000   -2.87e+05    2.87e+05\n",
       "symmetry_mean                 -0.0095   2.51e+07  -3.79e-10      1.000   -4.91e+07    4.91e+07\n",
       "symmetry_sd_error              0.0099   3.83e+07   2.59e-10      1.000   -7.51e+07    7.51e+07\n",
       "symmetry_worst                -0.0061   2.01e+07  -3.04e-10      1.000   -3.93e+07    3.93e+07\n",
       "fractal_dimension_mean         0.0023   3.24e+07   7.03e-11      1.000   -6.35e+07    6.35e+07\n",
       "fractal_dimension_sd_error    -0.0203   1.33e+07  -1.52e-09      1.000   -2.61e+07    2.61e+07\n",
       "fractal_dimension_worst       -0.0006   3.69e+07  -1.59e-11      1.000   -7.23e+07    7.23e+07\n",
       "==============================================================================================\n",
       "\n",
       "Possibly complete quasi-separation: A fraction 0.37 of observations can be\n",
       "perfectly predicted. This might indicate that there is complete\n",
       "quasi-separation. In this case some parameters will not be identified.\n",
       "\"\"\""
      ]
     },
     "execution_count": 36,
     "metadata": {},
     "output_type": "execute_result"
    }
   ],
   "source": [
    "log_result.summary()"
   ]
  },
  {
   "cell_type": "markdown",
   "metadata": {},
   "source": [
    "#### As we can see, the standard errors for all the variables are gigantic, leading to none of them being statistically significant. However, for those who don't care about inference, Sci-Kit Learn's implementation of logistic regression can automatically mitigate this, simply for the goal of classification."
   ]
  },
  {
   "cell_type": "code",
   "execution_count": 37,
   "metadata": {},
   "outputs": [],
   "source": [
    "from sklearn.linear_model import LogisticRegression\n",
    "from sklearn.model_selection import train_test_split"
   ]
  },
  {
   "cell_type": "code",
   "execution_count": 38,
   "metadata": {},
   "outputs": [],
   "source": [
    "# test-train split the data to be able to test the classification \n",
    "X_train, X_test, y_train, y_test = train_test_split(X,y, test_size=.5)"
   ]
  },
  {
   "cell_type": "code",
   "execution_count": 39,
   "metadata": {},
   "outputs": [],
   "source": [
    "# instantiate the logistic regression model\n",
    "lr = LogisticRegression(solver='liblinear')"
   ]
  },
  {
   "cell_type": "code",
   "execution_count": 40,
   "metadata": {},
   "outputs": [
    {
     "data": {
      "text/plain": [
       "LogisticRegression(C=1.0, class_weight=None, dual=False, fit_intercept=True,\n",
       "                   intercept_scaling=1, l1_ratio=None, max_iter=100,\n",
       "                   multi_class='warn', n_jobs=None, penalty='l2',\n",
       "                   random_state=None, solver='liblinear', tol=0.0001, verbose=0,\n",
       "                   warm_start=False)"
      ]
     },
     "execution_count": 40,
     "metadata": {},
     "output_type": "execute_result"
    }
   ],
   "source": [
    "# fit the model on the training data using the default parameters\n",
    "lr.fit(X_train, y_train)"
   ]
  },
  {
   "cell_type": "code",
   "execution_count": 41,
   "metadata": {},
   "outputs": [
    {
     "data": {
      "text/plain": [
       "0.9577464788732394"
      ]
     },
     "execution_count": 41,
     "metadata": {},
     "output_type": "execute_result"
    }
   ],
   "source": [
    "lr.score(X_train, y_train)"
   ]
  },
  {
   "cell_type": "code",
   "execution_count": 42,
   "metadata": {},
   "outputs": [
    {
     "data": {
      "text/plain": [
       "0.9403508771929825"
      ]
     },
     "execution_count": 42,
     "metadata": {},
     "output_type": "execute_result"
    }
   ],
   "source": [
    "lr.score(X_test, y_test)"
   ]
  },
  {
   "cell_type": "markdown",
   "metadata": {},
   "source": [
    "As we can see, despite all the multicollinearity issues, the default L2 regularization addresses it by constraining the coefficient norm and keeping all the variables. In other words, it adds a 'squared magnitude' penalty term, which shrinks the magnitude of the coefficients, but doesn't completely zero them out. As a result, we get pretty decent classification results for both the training and test sets of the data. However, these scores are not the entire story. A confusion matrix helps to evaluate the model with more granularity."
   ]
  },
  {
   "cell_type": "code",
   "execution_count": 43,
   "metadata": {},
   "outputs": [],
   "source": [
    "from sklearn.metrics import confusion_matrix"
   ]
  },
  {
   "cell_type": "code",
   "execution_count": 67,
   "metadata": {},
   "outputs": [],
   "source": [
    "# saving the predicted y values from the model, to compare it to the actual values in the confusion matrix\n",
    "y_pred = lr.predict(X_test)"
   ]
  },
  {
   "cell_type": "code",
   "execution_count": 45,
   "metadata": {},
   "outputs": [
    {
     "data": {
      "text/plain": [
       "array([[174,   8],\n",
       "       [  9,  94]])"
      ]
     },
     "execution_count": 45,
     "metadata": {},
     "output_type": "execute_result"
    }
   ],
   "source": [
    "confusion_matrix(y_test, y_pred)"
   ]
  },
  {
   "cell_type": "code",
   "execution_count": 68,
   "metadata": {},
   "outputs": [],
   "source": [
    "# unraveling the confusion matrix to calculate specificity and sensitivity, which is discussed below in the markdown\n",
    "tn, fp, fn, tp = confusion_matrix(y_test, y_pred).ravel()"
   ]
  },
  {
   "cell_type": "code",
   "execution_count": 47,
   "metadata": {},
   "outputs": [
    {
     "name": "stdout",
     "output_type": "stream",
     "text": [
      "Specificity: 0.956\n"
     ]
    }
   ],
   "source": [
    "spec = tn/(tn+fp)\n",
    "\n",
    "print(f'Specificity: {round(spec,4)}')"
   ]
  },
  {
   "cell_type": "code",
   "execution_count": 48,
   "metadata": {},
   "outputs": [
    {
     "name": "stdout",
     "output_type": "stream",
     "text": [
      "Sensitivity: 0.9126\n"
     ]
    }
   ],
   "source": [
    "sens = tp/(tp+fn)\n",
    "\n",
    "print(f'Sensitivity: {round(sens,4)}')"
   ]
  },
  {
   "cell_type": "markdown",
   "metadata": {},
   "source": [
    "As mentioned before, the accuracy score of 95.8 percent isn't the entire story. Looking at the confusion matrix, we can see that there were 8 false positives and 9 false negatives, leading to specificity and sensitivity scores of 95.6% and 91.3%, respectively. Because we are dealing with possibly life-threatening situations, we would want to optimize for sensitivity, to minimize false negatives. It would be much more devastating to incorrectly miss a deal malignant tumor, rather than incorrectly diagnosing someone and making them go through extra tests and screenings out of an abundance of caution. "
   ]
  },
  {
   "cell_type": "markdown",
   "metadata": {},
   "source": [
    "To see which of the features are the most predictive of malignant tumors, we have to pull out the coefficients manually, as I demonstrate below."
   ]
  },
  {
   "cell_type": "code",
   "execution_count": 49,
   "metadata": {},
   "outputs": [],
   "source": [
    "coef_dict = {}\n",
    "for coef, feat in zip(np.exp(lr.coef_[0]), X_train.columns):\n",
    "    coef_dict[feat] = coef"
   ]
  },
  {
   "cell_type": "code",
   "execution_count": 50,
   "metadata": {},
   "outputs": [],
   "source": [
    "coefs = pd.DataFrame(coef_dict.items(), columns=['Variables', 'Coefficients'])"
   ]
  },
  {
   "cell_type": "code",
   "execution_count": 51,
   "metadata": {},
   "outputs": [
    {
     "data": {
      "text/html": [
       "<div>\n",
       "<style scoped>\n",
       "    .dataframe tbody tr th:only-of-type {\n",
       "        vertical-align: middle;\n",
       "    }\n",
       "\n",
       "    .dataframe tbody tr th {\n",
       "        vertical-align: top;\n",
       "    }\n",
       "\n",
       "    .dataframe thead th {\n",
       "        text-align: right;\n",
       "    }\n",
       "</style>\n",
       "<table border=\"1\" class=\"dataframe\">\n",
       "  <thead>\n",
       "    <tr style=\"text-align: right;\">\n",
       "      <th></th>\n",
       "      <th>Variables</th>\n",
       "      <th>Coefficients</th>\n",
       "    </tr>\n",
       "  </thead>\n",
       "  <tbody>\n",
       "    <tr>\n",
       "      <th>26</th>\n",
       "      <td>symmetry_worst</td>\n",
       "      <td>2.660027</td>\n",
       "    </tr>\n",
       "    <tr>\n",
       "      <th>25</th>\n",
       "      <td>symmetry_sd_error</td>\n",
       "      <td>1.986212</td>\n",
       "    </tr>\n",
       "    <tr>\n",
       "      <th>21</th>\n",
       "      <td>concave_points_mean</td>\n",
       "      <td>1.554729</td>\n",
       "    </tr>\n",
       "    <tr>\n",
       "      <th>27</th>\n",
       "      <td>fractal_dimension_mean</td>\n",
       "      <td>1.424669</td>\n",
       "    </tr>\n",
       "    <tr>\n",
       "      <th>6</th>\n",
       "      <td>perimeter_mean</td>\n",
       "      <td>1.416254</td>\n",
       "    </tr>\n",
       "    <tr>\n",
       "      <th>28</th>\n",
       "      <td>fractal_dimension_sd_error</td>\n",
       "      <td>1.360508</td>\n",
       "    </tr>\n",
       "    <tr>\n",
       "      <th>22</th>\n",
       "      <td>concave_points_sd_error</td>\n",
       "      <td>1.273097</td>\n",
       "    </tr>\n",
       "    <tr>\n",
       "      <th>5</th>\n",
       "      <td>texture_worst</td>\n",
       "      <td>1.226885</td>\n",
       "    </tr>\n",
       "    <tr>\n",
       "      <th>7</th>\n",
       "      <td>perimeter_sd_error</td>\n",
       "      <td>1.189227</td>\n",
       "    </tr>\n",
       "    <tr>\n",
       "      <th>13</th>\n",
       "      <td>smoothness_sd_error</td>\n",
       "      <td>1.158557</td>\n",
       "    </tr>\n",
       "    <tr>\n",
       "      <th>24</th>\n",
       "      <td>symmetry_mean</td>\n",
       "      <td>1.107714</td>\n",
       "    </tr>\n",
       "    <tr>\n",
       "      <th>8</th>\n",
       "      <td>perimeter_worst</td>\n",
       "      <td>1.096550</td>\n",
       "    </tr>\n",
       "    <tr>\n",
       "      <th>29</th>\n",
       "      <td>fractal_dimension_worst</td>\n",
       "      <td>1.066330</td>\n",
       "    </tr>\n",
       "    <tr>\n",
       "      <th>16</th>\n",
       "      <td>compactness_sd_error</td>\n",
       "      <td>1.062220</td>\n",
       "    </tr>\n",
       "    <tr>\n",
       "      <th>4</th>\n",
       "      <td>texture_sd_error</td>\n",
       "      <td>1.047567</td>\n",
       "    </tr>\n",
       "    <tr>\n",
       "      <th>15</th>\n",
       "      <td>compactness_mean</td>\n",
       "      <td>1.034522</td>\n",
       "    </tr>\n",
       "    <tr>\n",
       "      <th>17</th>\n",
       "      <td>compactness_worst</td>\n",
       "      <td>1.027724</td>\n",
       "    </tr>\n",
       "    <tr>\n",
       "      <th>18</th>\n",
       "      <td>concavity_mean</td>\n",
       "      <td>1.015398</td>\n",
       "    </tr>\n",
       "    <tr>\n",
       "      <th>23</th>\n",
       "      <td>concave_points_worst</td>\n",
       "      <td>1.013789</td>\n",
       "    </tr>\n",
       "    <tr>\n",
       "      <th>3</th>\n",
       "      <td>texture_mean</td>\n",
       "      <td>1.010894</td>\n",
       "    </tr>\n",
       "    <tr>\n",
       "      <th>9</th>\n",
       "      <td>area_mean</td>\n",
       "      <td>1.007384</td>\n",
       "    </tr>\n",
       "    <tr>\n",
       "      <th>14</th>\n",
       "      <td>smoothness_worst</td>\n",
       "      <td>1.006489</td>\n",
       "    </tr>\n",
       "    <tr>\n",
       "      <th>19</th>\n",
       "      <td>concavity_sd_error</td>\n",
       "      <td>1.002488</td>\n",
       "    </tr>\n",
       "    <tr>\n",
       "      <th>10</th>\n",
       "      <td>area_sd_error</td>\n",
       "      <td>0.933951</td>\n",
       "    </tr>\n",
       "    <tr>\n",
       "      <th>2</th>\n",
       "      <td>radius_worst</td>\n",
       "      <td>0.880373</td>\n",
       "    </tr>\n",
       "    <tr>\n",
       "      <th>1</th>\n",
       "      <td>radius_sd_error</td>\n",
       "      <td>0.766365</td>\n",
       "    </tr>\n",
       "    <tr>\n",
       "      <th>12</th>\n",
       "      <td>smoothness_mean</td>\n",
       "      <td>0.641966</td>\n",
       "    </tr>\n",
       "    <tr>\n",
       "      <th>11</th>\n",
       "      <td>area_worst</td>\n",
       "      <td>0.305944</td>\n",
       "    </tr>\n",
       "    <tr>\n",
       "      <th>0</th>\n",
       "      <td>radius_mean</td>\n",
       "      <td>0.266026</td>\n",
       "    </tr>\n",
       "    <tr>\n",
       "      <th>20</th>\n",
       "      <td>concavity_worst</td>\n",
       "      <td>0.250626</td>\n",
       "    </tr>\n",
       "  </tbody>\n",
       "</table>\n",
       "</div>"
      ],
      "text/plain": [
       "                     Variables  Coefficients\n",
       "26              symmetry_worst      2.660027\n",
       "25           symmetry_sd_error      1.986212\n",
       "21         concave_points_mean      1.554729\n",
       "27      fractal_dimension_mean      1.424669\n",
       "6               perimeter_mean      1.416254\n",
       "28  fractal_dimension_sd_error      1.360508\n",
       "22     concave_points_sd_error      1.273097\n",
       "5                texture_worst      1.226885\n",
       "7           perimeter_sd_error      1.189227\n",
       "13         smoothness_sd_error      1.158557\n",
       "24               symmetry_mean      1.107714\n",
       "8              perimeter_worst      1.096550\n",
       "29     fractal_dimension_worst      1.066330\n",
       "16        compactness_sd_error      1.062220\n",
       "4             texture_sd_error      1.047567\n",
       "15            compactness_mean      1.034522\n",
       "17           compactness_worst      1.027724\n",
       "18              concavity_mean      1.015398\n",
       "23        concave_points_worst      1.013789\n",
       "3                 texture_mean      1.010894\n",
       "9                    area_mean      1.007384\n",
       "14            smoothness_worst      1.006489\n",
       "19          concavity_sd_error      1.002488\n",
       "10               area_sd_error      0.933951\n",
       "2                 radius_worst      0.880373\n",
       "1              radius_sd_error      0.766365\n",
       "12             smoothness_mean      0.641966\n",
       "11                  area_worst      0.305944\n",
       "0                  radius_mean      0.266026\n",
       "20             concavity_worst      0.250626"
      ]
     },
     "execution_count": 51,
     "metadata": {},
     "output_type": "execute_result"
    }
   ],
   "source": [
    "coefs.sort_values('Coefficients', ascending = False)"
   ]
  },
  {
   "cell_type": "markdown",
   "metadata": {},
   "source": [
    "As we can see, symmetry_worst has the largest coefficient, with a 1-unit increase leading to more than 2.6 times the odds of a tumor being malignant. However, the data here is not standardized, so everything is not in the same units. If symmetry_worst is in nanometers and smoothness_worst is in millimeters, we would get orders of magnitude differences in coefficient sizes.  "
   ]
  },
  {
   "cell_type": "markdown",
   "metadata": {},
   "source": [
    "As a robustness check, I will now explore a decision tree model to compare against the logistic regression model. "
   ]
  },
  {
   "cell_type": "code",
   "execution_count": 52,
   "metadata": {},
   "outputs": [],
   "source": [
    "# Import model.\n",
    "from sklearn.tree import DecisionTreeClassifier"
   ]
  },
  {
   "cell_type": "code",
   "execution_count": 53,
   "metadata": {},
   "outputs": [],
   "source": [
    "# Instantiate model.\n",
    "dt = DecisionTreeClassifier(random_state=42)"
   ]
  },
  {
   "cell_type": "code",
   "execution_count": 54,
   "metadata": {},
   "outputs": [
    {
     "data": {
      "text/plain": [
       "DecisionTreeClassifier(class_weight=None, criterion='gini', max_depth=None,\n",
       "                       max_features=None, max_leaf_nodes=None,\n",
       "                       min_impurity_decrease=0.0, min_impurity_split=None,\n",
       "                       min_samples_leaf=1, min_samples_split=2,\n",
       "                       min_weight_fraction_leaf=0.0, presort=False,\n",
       "                       random_state=42, splitter='best')"
      ]
     },
     "execution_count": 54,
     "metadata": {},
     "output_type": "execute_result"
    }
   ],
   "source": [
    "# Fit model.\n",
    "dt.fit(X_train, y_train)"
   ]
  },
  {
   "cell_type": "code",
   "execution_count": 55,
   "metadata": {},
   "outputs": [
    {
     "name": "stdout",
     "output_type": "stream",
     "text": [
      "Training Score: 1.0\n"
     ]
    }
   ],
   "source": [
    "# Evaluate model.\n",
    "print(f'Training Score: {dt.score(X_train, y_train)}')"
   ]
  },
  {
   "cell_type": "code",
   "execution_count": 56,
   "metadata": {},
   "outputs": [
    {
     "name": "stdout",
     "output_type": "stream",
     "text": [
      "Testing Score: 0.9228070175438596\n"
     ]
    }
   ],
   "source": [
    "print(f'Testing Score: {dt.score(X_test, y_test)}')"
   ]
  },
  {
   "cell_type": "markdown",
   "metadata": {},
   "source": [
    "As we can see, the training score was a perfect 100%, meaning the decision tree model was very overfit. Of course this was done with the default hyperparameters, so some tuning could improve our results. However, again, accuracy isn't the entire story, so let's see the sensitivity and the specificity of the model."
   ]
  },
  {
   "cell_type": "code",
   "execution_count": 69,
   "metadata": {},
   "outputs": [],
   "source": [
    "# doing the same as for the logistic regression model, except now for the decision tree model\n",
    "y_pred2 = dt.predict(X_test)"
   ]
  },
  {
   "cell_type": "code",
   "execution_count": 58,
   "metadata": {},
   "outputs": [
    {
     "data": {
      "text/plain": [
       "array([[168,  14],\n",
       "       [  8,  95]])"
      ]
     },
     "execution_count": 58,
     "metadata": {},
     "output_type": "execute_result"
    }
   ],
   "source": [
    "confusion_matrix(y_test, y_pred2)"
   ]
  },
  {
   "cell_type": "code",
   "execution_count": 59,
   "metadata": {},
   "outputs": [],
   "source": [
    "tn2, fp2, fn2, tp2 = confusion_matrix(y_test, y_pred2).ravel()"
   ]
  },
  {
   "cell_type": "code",
   "execution_count": 60,
   "metadata": {},
   "outputs": [
    {
     "name": "stdout",
     "output_type": "stream",
     "text": [
      "Specificity: 0.9231\n"
     ]
    }
   ],
   "source": [
    "spec2 = tn2/(tn2+fp2)\n",
    "\n",
    "print(f'Specificity: {round(spec2,4)}')"
   ]
  },
  {
   "cell_type": "code",
   "execution_count": 61,
   "metadata": {},
   "outputs": [
    {
     "name": "stdout",
     "output_type": "stream",
     "text": [
      "Sensitivity: 0.9223\n"
     ]
    }
   ],
   "source": [
    "sens2 = tp2/(tp2+fn2)\n",
    "\n",
    "print(f'Sensitivity: {round(sens2,4)}')"
   ]
  },
  {
   "cell_type": "markdown",
   "metadata": {},
   "source": [
    "Interestingly, the specificity performed slightly worse than the logistic regression model, but the sensitivity was slightly better. Although it incorrectly identified 6 more benign tumors as malignant, it did catch 1 extra malignant tumor than the logistic regression model. Another advantage of decision trees is the ability to see feature importance, which is shown below."
   ]
  },
  {
   "cell_type": "code",
   "execution_count": 62,
   "metadata": {},
   "outputs": [
    {
     "data": {
      "text/html": [
       "<div>\n",
       "<style scoped>\n",
       "    .dataframe tbody tr th:only-of-type {\n",
       "        vertical-align: middle;\n",
       "    }\n",
       "\n",
       "    .dataframe tbody tr th {\n",
       "        vertical-align: top;\n",
       "    }\n",
       "\n",
       "    .dataframe thead th {\n",
       "        text-align: right;\n",
       "    }\n",
       "</style>\n",
       "<table border=\"1\" class=\"dataframe\">\n",
       "  <thead>\n",
       "    <tr style=\"text-align: right;\">\n",
       "      <th></th>\n",
       "      <th>Feature</th>\n",
       "      <th>Importance</th>\n",
       "    </tr>\n",
       "  </thead>\n",
       "  <tbody>\n",
       "    <tr>\n",
       "      <th>27</th>\n",
       "      <td>fractal_dimension_mean</td>\n",
       "      <td>0.733927</td>\n",
       "    </tr>\n",
       "    <tr>\n",
       "      <th>22</th>\n",
       "      <td>concave_points_sd_error</td>\n",
       "      <td>0.137490</td>\n",
       "    </tr>\n",
       "    <tr>\n",
       "      <th>19</th>\n",
       "      <td>concavity_sd_error</td>\n",
       "      <td>0.042342</td>\n",
       "    </tr>\n",
       "    <tr>\n",
       "      <th>26</th>\n",
       "      <td>symmetry_worst</td>\n",
       "      <td>0.025807</td>\n",
       "    </tr>\n",
       "    <tr>\n",
       "      <th>1</th>\n",
       "      <td>radius_sd_error</td>\n",
       "      <td>0.021428</td>\n",
       "    </tr>\n",
       "    <tr>\n",
       "      <th>10</th>\n",
       "      <td>area_sd_error</td>\n",
       "      <td>0.014787</td>\n",
       "    </tr>\n",
       "    <tr>\n",
       "      <th>3</th>\n",
       "      <td>texture_mean</td>\n",
       "      <td>0.014293</td>\n",
       "    </tr>\n",
       "    <tr>\n",
       "      <th>24</th>\n",
       "      <td>symmetry_mean</td>\n",
       "      <td>0.009926</td>\n",
       "    </tr>\n",
       "    <tr>\n",
       "      <th>0</th>\n",
       "      <td>radius_mean</td>\n",
       "      <td>0.000000</td>\n",
       "    </tr>\n",
       "    <tr>\n",
       "      <th>17</th>\n",
       "      <td>compactness_worst</td>\n",
       "      <td>0.000000</td>\n",
       "    </tr>\n",
       "    <tr>\n",
       "      <th>28</th>\n",
       "      <td>fractal_dimension_sd_error</td>\n",
       "      <td>0.000000</td>\n",
       "    </tr>\n",
       "    <tr>\n",
       "      <th>25</th>\n",
       "      <td>symmetry_sd_error</td>\n",
       "      <td>0.000000</td>\n",
       "    </tr>\n",
       "    <tr>\n",
       "      <th>23</th>\n",
       "      <td>concave_points_worst</td>\n",
       "      <td>0.000000</td>\n",
       "    </tr>\n",
       "    <tr>\n",
       "      <th>21</th>\n",
       "      <td>concave_points_mean</td>\n",
       "      <td>0.000000</td>\n",
       "    </tr>\n",
       "    <tr>\n",
       "      <th>20</th>\n",
       "      <td>concavity_worst</td>\n",
       "      <td>0.000000</td>\n",
       "    </tr>\n",
       "    <tr>\n",
       "      <th>18</th>\n",
       "      <td>concavity_mean</td>\n",
       "      <td>0.000000</td>\n",
       "    </tr>\n",
       "    <tr>\n",
       "      <th>15</th>\n",
       "      <td>compactness_mean</td>\n",
       "      <td>0.000000</td>\n",
       "    </tr>\n",
       "    <tr>\n",
       "      <th>16</th>\n",
       "      <td>compactness_sd_error</td>\n",
       "      <td>0.000000</td>\n",
       "    </tr>\n",
       "    <tr>\n",
       "      <th>14</th>\n",
       "      <td>smoothness_worst</td>\n",
       "      <td>0.000000</td>\n",
       "    </tr>\n",
       "    <tr>\n",
       "      <th>13</th>\n",
       "      <td>smoothness_sd_error</td>\n",
       "      <td>0.000000</td>\n",
       "    </tr>\n",
       "    <tr>\n",
       "      <th>12</th>\n",
       "      <td>smoothness_mean</td>\n",
       "      <td>0.000000</td>\n",
       "    </tr>\n",
       "    <tr>\n",
       "      <th>11</th>\n",
       "      <td>area_worst</td>\n",
       "      <td>0.000000</td>\n",
       "    </tr>\n",
       "    <tr>\n",
       "      <th>9</th>\n",
       "      <td>area_mean</td>\n",
       "      <td>0.000000</td>\n",
       "    </tr>\n",
       "    <tr>\n",
       "      <th>8</th>\n",
       "      <td>perimeter_worst</td>\n",
       "      <td>0.000000</td>\n",
       "    </tr>\n",
       "    <tr>\n",
       "      <th>7</th>\n",
       "      <td>perimeter_sd_error</td>\n",
       "      <td>0.000000</td>\n",
       "    </tr>\n",
       "    <tr>\n",
       "      <th>6</th>\n",
       "      <td>perimeter_mean</td>\n",
       "      <td>0.000000</td>\n",
       "    </tr>\n",
       "    <tr>\n",
       "      <th>5</th>\n",
       "      <td>texture_worst</td>\n",
       "      <td>0.000000</td>\n",
       "    </tr>\n",
       "    <tr>\n",
       "      <th>4</th>\n",
       "      <td>texture_sd_error</td>\n",
       "      <td>0.000000</td>\n",
       "    </tr>\n",
       "    <tr>\n",
       "      <th>2</th>\n",
       "      <td>radius_worst</td>\n",
       "      <td>0.000000</td>\n",
       "    </tr>\n",
       "    <tr>\n",
       "      <th>29</th>\n",
       "      <td>fractal_dimension_worst</td>\n",
       "      <td>0.000000</td>\n",
       "    </tr>\n",
       "  </tbody>\n",
       "</table>\n",
       "</div>"
      ],
      "text/plain": [
       "                       Feature  Importance\n",
       "27      fractal_dimension_mean    0.733927\n",
       "22     concave_points_sd_error    0.137490\n",
       "19          concavity_sd_error    0.042342\n",
       "26              symmetry_worst    0.025807\n",
       "1              radius_sd_error    0.021428\n",
       "10               area_sd_error    0.014787\n",
       "3                 texture_mean    0.014293\n",
       "24               symmetry_mean    0.009926\n",
       "0                  radius_mean    0.000000\n",
       "17           compactness_worst    0.000000\n",
       "28  fractal_dimension_sd_error    0.000000\n",
       "25           symmetry_sd_error    0.000000\n",
       "23        concave_points_worst    0.000000\n",
       "21         concave_points_mean    0.000000\n",
       "20             concavity_worst    0.000000\n",
       "18              concavity_mean    0.000000\n",
       "15            compactness_mean    0.000000\n",
       "16        compactness_sd_error    0.000000\n",
       "14            smoothness_worst    0.000000\n",
       "13         smoothness_sd_error    0.000000\n",
       "12             smoothness_mean    0.000000\n",
       "11                  area_worst    0.000000\n",
       "9                    area_mean    0.000000\n",
       "8              perimeter_worst    0.000000\n",
       "7           perimeter_sd_error    0.000000\n",
       "6               perimeter_mean    0.000000\n",
       "5                texture_worst    0.000000\n",
       "4             texture_sd_error    0.000000\n",
       "2                 radius_worst    0.000000\n",
       "29     fractal_dimension_worst    0.000000"
      ]
     },
     "execution_count": 62,
     "metadata": {},
     "output_type": "execute_result"
    }
   ],
   "source": [
    "pd.DataFrame(list((dict(zip(X.columns, dt.feature_importances_))).items()), columns=['Feature', 'Importance']).sort_values(by='Importance', ascending=False)"
   ]
  },
  {
   "cell_type": "markdown",
   "metadata": {},
   "source": [
    "As we can see, the most important feature for malignant tumor identification is fractal_dimension_mean (.734). The rest of the features don't even come close, and only 8 of them have any importance at all."
   ]
  },
  {
   "cell_type": "markdown",
   "metadata": {},
   "source": [
    "# Conclusion"
   ]
  },
  {
   "cell_type": "markdown",
   "metadata": {},
   "source": [
    "This analysis briefly explored a dataset of images taken of malignant and benign breast cancer tumors. It started off with some basic data wrangling and descriptive statistics, including a look at the differences between benign and malignant tumors as shown through a comparison of t-tests. It then engaged in some exploratory data analysis and modeling, starting off with logistic regression and evaluations thereof, followed by a decision tree model and evaluations thereof. Overall, the logistic regression model performed better than the decision tree model, likely due to the overfitting of the latter. However, as previously mentioned, accuracy is not the entire story. Despite the overfitting, the decision tree model had a higher sensitivity score. This optimization towards minimizing false negatives caught 1 more malignant tumor than the logistic regression model. Thus, even though there would have been 6 more incorrect malignant diagnoses, that pales in comparison to what might happen if an actual malignant tumor is misclassified as benign. Also, if we had simply looked at the magnitude of the logistic regression coefficients, we would have thought that symmetry was more important, but looking at the decision tree model, we can see that the most important feature is the average fractal dimension of the tumor. \n",
    "\n",
    "There are several limitations of my analysis, some of which were already mentioned. One of these issues was the lack of a data dictionary, to give proper information about the units of each feature. To address this, one further step to take in the future would be to standardize the data. Another step to take in the future would be to remove the features that are causing the multicollinearity issues in the models. One method to identify the biggest offenders is to look at their Variance Inflation Factors, which is shown down below for demonstrative purposes. However, a easier place to start would be to take out all the features that were shown as having no importance in the decision tree model. Finally, both models were run with their default hyperparameters, so another step to take in the future would be to perform hyperparameter tuning through grid search to optimize the models and produce better results. "
   ]
  },
  {
   "cell_type": "markdown",
   "metadata": {},
   "source": [
    "---"
   ]
  },
  {
   "cell_type": "markdown",
   "metadata": {},
   "source": [
    "### Variance Inflation Factor Analysis for Detection of Multicollinearity"
   ]
  },
  {
   "cell_type": "code",
   "execution_count": 63,
   "metadata": {},
   "outputs": [],
   "source": [
    "from statsmodels.stats.outliers_influence import variance_inflation_factor"
   ]
  },
  {
   "cell_type": "code",
   "execution_count": 64,
   "metadata": {},
   "outputs": [],
   "source": [
    "vif = pd.DataFrame()\n",
    "vif[\"VIF Factor\"] = [variance_inflation_factor(X.values, i) for i in range(X.shape[1])]\n",
    "vif[\"features\"] = X.columns"
   ]
  },
  {
   "cell_type": "code",
   "execution_count": 65,
   "metadata": {},
   "outputs": [
    {
     "data": {
      "text/html": [
       "<div>\n",
       "<style scoped>\n",
       "    .dataframe tbody tr th:only-of-type {\n",
       "        vertical-align: middle;\n",
       "    }\n",
       "\n",
       "    .dataframe tbody tr th {\n",
       "        vertical-align: top;\n",
       "    }\n",
       "\n",
       "    .dataframe thead th {\n",
       "        text-align: right;\n",
       "    }\n",
       "</style>\n",
       "<table border=\"1\" class=\"dataframe\">\n",
       "  <thead>\n",
       "    <tr style=\"text-align: right;\">\n",
       "      <th></th>\n",
       "      <th>VIF Factor</th>\n",
       "      <th>features</th>\n",
       "    </tr>\n",
       "  </thead>\n",
       "  <tbody>\n",
       "    <tr>\n",
       "      <th>0</th>\n",
       "      <td>63306.2</td>\n",
       "      <td>radius_mean</td>\n",
       "    </tr>\n",
       "    <tr>\n",
       "      <th>1</th>\n",
       "      <td>251.0</td>\n",
       "      <td>radius_sd_error</td>\n",
       "    </tr>\n",
       "    <tr>\n",
       "      <th>2</th>\n",
       "      <td>58123.6</td>\n",
       "      <td>radius_worst</td>\n",
       "    </tr>\n",
       "    <tr>\n",
       "      <th>3</th>\n",
       "      <td>1287.3</td>\n",
       "      <td>texture_mean</td>\n",
       "    </tr>\n",
       "    <tr>\n",
       "      <th>4</th>\n",
       "      <td>393.4</td>\n",
       "      <td>texture_sd_error</td>\n",
       "    </tr>\n",
       "    <tr>\n",
       "      <th>5</th>\n",
       "      <td>201.0</td>\n",
       "      <td>texture_worst</td>\n",
       "    </tr>\n",
       "    <tr>\n",
       "      <th>6</th>\n",
       "      <td>157.9</td>\n",
       "      <td>perimeter_mean</td>\n",
       "    </tr>\n",
       "    <tr>\n",
       "      <th>7</th>\n",
       "      <td>154.2</td>\n",
       "      <td>perimeter_sd_error</td>\n",
       "    </tr>\n",
       "    <tr>\n",
       "      <th>8</th>\n",
       "      <td>184.4</td>\n",
       "      <td>perimeter_worst</td>\n",
       "    </tr>\n",
       "    <tr>\n",
       "      <th>9</th>\n",
       "      <td>629.7</td>\n",
       "      <td>area_mean</td>\n",
       "    </tr>\n",
       "    <tr>\n",
       "      <th>10</th>\n",
       "      <td>236.7</td>\n",
       "      <td>area_sd_error</td>\n",
       "    </tr>\n",
       "    <tr>\n",
       "      <th>11</th>\n",
       "      <td>24.7</td>\n",
       "      <td>area_worst</td>\n",
       "    </tr>\n",
       "    <tr>\n",
       "      <th>12</th>\n",
       "      <td>211.4</td>\n",
       "      <td>smoothness_mean</td>\n",
       "    </tr>\n",
       "    <tr>\n",
       "      <th>13</th>\n",
       "      <td>72.5</td>\n",
       "      <td>smoothness_sd_error</td>\n",
       "    </tr>\n",
       "    <tr>\n",
       "      <th>14</th>\n",
       "      <td>26.2</td>\n",
       "      <td>smoothness_worst</td>\n",
       "    </tr>\n",
       "    <tr>\n",
       "      <th>15</th>\n",
       "      <td>44.9</td>\n",
       "      <td>compactness_mean</td>\n",
       "    </tr>\n",
       "    <tr>\n",
       "      <th>16</th>\n",
       "      <td>33.2</td>\n",
       "      <td>compactness_sd_error</td>\n",
       "    </tr>\n",
       "    <tr>\n",
       "      <th>17</th>\n",
       "      <td>53.7</td>\n",
       "      <td>compactness_worst</td>\n",
       "    </tr>\n",
       "    <tr>\n",
       "      <th>18</th>\n",
       "      <td>37.2</td>\n",
       "      <td>concavity_mean</td>\n",
       "    </tr>\n",
       "    <tr>\n",
       "      <th>19</th>\n",
       "      <td>27.5</td>\n",
       "      <td>concavity_sd_error</td>\n",
       "    </tr>\n",
       "    <tr>\n",
       "      <th>20</th>\n",
       "      <td>9674.7</td>\n",
       "      <td>concavity_worst</td>\n",
       "    </tr>\n",
       "    <tr>\n",
       "      <th>21</th>\n",
       "      <td>343.0</td>\n",
       "      <td>concave_points_mean</td>\n",
       "    </tr>\n",
       "    <tr>\n",
       "      <th>22</th>\n",
       "      <td>4487.8</td>\n",
       "      <td>concave_points_sd_error</td>\n",
       "    </tr>\n",
       "    <tr>\n",
       "      <th>23</th>\n",
       "      <td>1138.8</td>\n",
       "      <td>concave_points_worst</td>\n",
       "    </tr>\n",
       "    <tr>\n",
       "      <th>24</th>\n",
       "      <td>375.6</td>\n",
       "      <td>symmetry_mean</td>\n",
       "    </tr>\n",
       "    <tr>\n",
       "      <th>25</th>\n",
       "      <td>132.9</td>\n",
       "      <td>symmetry_sd_error</td>\n",
       "    </tr>\n",
       "    <tr>\n",
       "      <th>26</th>\n",
       "      <td>86.3</td>\n",
       "      <td>symmetry_worst</td>\n",
       "    </tr>\n",
       "    <tr>\n",
       "      <th>27</th>\n",
       "      <td>148.7</td>\n",
       "      <td>fractal_dimension_mean</td>\n",
       "    </tr>\n",
       "    <tr>\n",
       "      <th>28</th>\n",
       "      <td>218.9</td>\n",
       "      <td>fractal_dimension_sd_error</td>\n",
       "    </tr>\n",
       "    <tr>\n",
       "      <th>29</th>\n",
       "      <td>423.4</td>\n",
       "      <td>fractal_dimension_worst</td>\n",
       "    </tr>\n",
       "  </tbody>\n",
       "</table>\n",
       "</div>"
      ],
      "text/plain": [
       "    VIF Factor                    features\n",
       "0      63306.2                 radius_mean\n",
       "1        251.0             radius_sd_error\n",
       "2      58123.6                radius_worst\n",
       "3       1287.3                texture_mean\n",
       "4        393.4            texture_sd_error\n",
       "5        201.0               texture_worst\n",
       "6        157.9              perimeter_mean\n",
       "7        154.2          perimeter_sd_error\n",
       "8        184.4             perimeter_worst\n",
       "9        629.7                   area_mean\n",
       "10       236.7               area_sd_error\n",
       "11        24.7                  area_worst\n",
       "12       211.4             smoothness_mean\n",
       "13        72.5         smoothness_sd_error\n",
       "14        26.2            smoothness_worst\n",
       "15        44.9            compactness_mean\n",
       "16        33.2        compactness_sd_error\n",
       "17        53.7           compactness_worst\n",
       "18        37.2              concavity_mean\n",
       "19        27.5          concavity_sd_error\n",
       "20      9674.7             concavity_worst\n",
       "21       343.0         concave_points_mean\n",
       "22      4487.8     concave_points_sd_error\n",
       "23      1138.8        concave_points_worst\n",
       "24       375.6               symmetry_mean\n",
       "25       132.9           symmetry_sd_error\n",
       "26        86.3              symmetry_worst\n",
       "27       148.7      fractal_dimension_mean\n",
       "28       218.9  fractal_dimension_sd_error\n",
       "29       423.4     fractal_dimension_worst"
      ]
     },
     "execution_count": 65,
     "metadata": {},
     "output_type": "execute_result"
    }
   ],
   "source": [
    "vif.round(1)"
   ]
  },
  {
   "cell_type": "markdown",
   "metadata": {},
   "source": [
    "As we can see, the worst offenders by far are the features related to a tumor's radius, followed by concavity_worst and concave_points_sd_error. "
   ]
  },
  {
   "cell_type": "markdown",
   "metadata": {},
   "source": [
    "---"
   ]
  },
  {
   "cell_type": "markdown",
   "metadata": {},
   "source": [
    "---"
   ]
  },
  {
   "cell_type": "markdown",
   "metadata": {},
   "source": [
    "# Part 2: Feedback"
   ]
  },
  {
   "cell_type": "markdown",
   "metadata": {},
   "source": [
    "## Student Sample 1"
   ]
  },
  {
   "cell_type": "code",
   "execution_count": null,
   "metadata": {},
   "outputs": [],
   "source": [
    "import pandas as pd\n",
    "import numpy as np\n",
    "from sklearn import LinearRegression\n",
    "from sklearn.cross_validation import cross_val_score"
   ]
  },
  {
   "cell_type": "markdown",
   "metadata": {},
   "source": [
    "The LinearRegression module is under sklearn.linear_model and cross_val_score is under sklearn.model_selection"
   ]
  },
  {
   "cell_type": "code",
   "execution_count": null,
   "metadata": {},
   "outputs": [],
   "source": [
    "# Load data\n",
    "d = pd.read_csv('../data/train.csv')"
   ]
  },
  {
   "cell_type": "markdown",
   "metadata": {},
   "source": [
    "It is generally a good idea to give your dataframes more descriptive names. If you're only working with 1 dataframe, you may be tempted to do this for speed and brevity, but it's good to get in the habit now of being as descriptive as possible to avoid confusion later when you're working with multiple dataframes, which are oftentimes subsets or slices of the same data."
   ]
  },
  {
   "cell_type": "code",
   "execution_count": null,
   "metadata": {},
   "outputs": [],
   "source": [
    "# Setup data for prediction\n",
    "x1 = data.SalaryNormalized\n",
    "x2 = pd.get_dummies(data.ContractType)"
   ]
  },
  {
   "cell_type": "markdown",
   "metadata": {},
   "source": [
    "You incorrectly specified the dataframe as 'data' instead of the 'd' you created above. This might have been avoided if you named it something more descriptive! Also, it is good practice to use the dataframe['column'] method of selecting columns, as this 'dataframe.column' method sometimes doesn't work when column names are capitalized, or have spaces, etc. \n",
    "\n",
    "Also, it doesn't really matter what name you give the variables, but technically your 'x1' is your outcome/dependent variable, which we conventionally name as 'y' -- again, be more descriptive about your naming conventions to avoid confusion later on!\n",
    "\n",
    "Regardless, before you jump right in, it's a good idea to explore the data a little. Are all the datatypes as expected? Are there any missing data? If so, what needs to be done about it? Are there any other mistakes? Almost every dataset you work with will require some sort of data cleaning and feature engineering before you begin modeling"
   ]
  },
  {
   "cell_type": "code",
   "execution_count": null,
   "metadata": {},
   "outputs": [],
   "source": [
    "# Setup model\n",
    "model = LinearRegression()"
   ]
  },
  {
   "cell_type": "markdown",
   "metadata": {},
   "source": [
    "This is technically called 'instantiating' a model and the comment above about being more descriptive about naming your dataframes applies here as well. It's good to be more descriptive, because, more often than not, you'll be working with many models, and calling them model1, model2, etc. will get confusing fast. Thus, instantiating it as 'linreg' or something along those lines would have been be"
   ]
  },
  {
   "cell_type": "code",
   "execution_count": null,
   "metadata": {},
   "outputs": [],
   "source": [
    "# Evaluate model\n",
    "from sklearn.cross_validation import cross_val_score\n",
    "from sklearn.cross_validation import train_test_split\n",
    "scores = cross_val_score(model, x2, x1, cv=1, scoring='mean_absolute_error')\n",
    "print(scores.mean())"
   ]
  },
  {
   "cell_type": "markdown",
   "metadata": {},
   "source": [
    "cross_val_score and train_test_split are under the model_selection module, not cross_validation, so it should have been 'from sklearn.model_selection' -- also, if you're importing from the same module, you can make your code more succinct by adding a comma after the first function/package, so you don't have to write the whole 'from sklearn.cross_validation import' all over again on a different line. On a stylistic note, it is convention to import everything at the top of your notebook/script, to not only keep things tidy, but to avoid importing the same module multiple times, as you attempted to do so here. Also, you can prevent errors when rerunning your notebook/script (e.g. if you go back and use a library/module earlier in your code than when you initially imported it, you'd get an error when rerunning the script/notebook because your import of it came later!). And again, be more descriptive about naming which model's scores these are. \n",
    "\n",
    "More substantively, be sure to explain your choices and results. For example, why did you choose mean absolute error and not mean squared error? Why did you only choose only one fold for your cross-validation? The most common choices are usually 3 and 5 folds. As for the printing of the scores, talk about what they mean, don't just print them out. "
   ]
  },
  {
   "cell_type": "markdown",
   "metadata": {},
   "source": [
    "Overall, this was a great attempt! Don't worry as much about the little mistakes around the imports and syntax, etc. You'll be doing this so much over the next few weeks that it'll become second nature very quickly. However, do pay more attention to developing the good habits I mentioned: descriptive naming conventions, data cleaning and exploration, and **more commenting!** Trust me, you think you'll remember exactly what was going through your mind when you look at your past code, but you won't! The more comments you leave for yourself (and your audience), the better. It may seem tedious, but your future self will thank you!"
   ]
  },
  {
   "cell_type": "markdown",
   "metadata": {},
   "source": [
    "## Student Sample 2"
   ]
  },
  {
   "cell_type": "code",
   "execution_count": null,
   "metadata": {},
   "outputs": [],
   "source": [
    "import pandas as pd\n",
    "import numpy as np\n",
    "from sklearn.linear_model import LinearRegression\n",
    "from sklearn.cross_validation import cross_val_score"
   ]
  },
  {
   "cell_type": "markdown",
   "metadata": {},
   "source": [
    "cross_val_score is under sklearn.model_selection, not cross_validation"
   ]
  },
  {
   "cell_type": "code",
   "execution_count": null,
   "metadata": {},
   "outputs": [],
   "source": [
    "# Load data\n",
    "data = pd.read_csv('../data/train.csv')"
   ]
  },
  {
   "cell_type": "markdown",
   "metadata": {},
   "source": [
    "It is generally a good idea to give your dataframes more descriptive names. If you're only working with 1 dataframe, you may be tempted to do this for speed and brevity, but it's good to get in the habit now of being as descriptive as possible to avoid confusion later when you're working with multiple dataframes, which are oftentimes subsets or slices of the same data."
   ]
  },
  {
   "cell_type": "code",
   "execution_count": null,
   "metadata": {},
   "outputs": [],
   "source": [
    "# Setup data for prediction\n",
    "y = data.SalaryNormalized\n",
    "X = pd.get_dummies(data.ContractType)"
   ]
  },
  {
   "cell_type": "markdown",
   "metadata": {},
   "source": [
    "Before you jump right in, it's a good idea to explore the data a little. Are all the datatypes as expected? Are there any missing data? If so, what needs to be done about it? Are there any other mistakes? Almost every dataset you work with will require some sort of data cleaning and feature engineering before you begin modeling. Also, it is good practice to use the dataframe['column'] method of selecting columns, as this dataframe.column sometimes doesn't work when column names are capitalized, or have spaces, etc."
   ]
  },
  {
   "cell_type": "code",
   "execution_count": null,
   "metadata": {},
   "outputs": [],
   "source": [
    "# Setup model\n",
    "model = LinearRegression()"
   ]
  },
  {
   "cell_type": "markdown",
   "metadata": {},
   "source": [
    "This is technically called 'instantiating' a model and the comment above about being more descriptive about naming your dataframes applies here as well. It's good to be more descriptive, because, more often than not, you'll be working with many models, and calling them model1, model2, etc. will get confusing fast. Thus, instantiating it as 'linreg' or something along those lines would have been be"
   ]
  },
  {
   "cell_type": "code",
   "execution_count": null,
   "metadata": {},
   "outputs": [],
   "source": [
    "# Evaluate model\n",
    "scores = cross_val_score(model, X, y, cv=5, scoring='mean_absolute_error')\n",
    "print(scores.mean())"
   ]
  },
  {
   "cell_type": "markdown",
   "metadata": {},
   "source": [
    "Always be sure to explain your choices and results. For example, why did you choose mean absolute error and not mean squared error? Why did you only choose only 5 folds for your cross-validation? As for the printing of the scores, talk about what they mean, don't just print them out, so your audience can understand your reasoning and what conclusions should be drawn from your analyses. And again, be more descriptive about naming which model's scores these are. "
   ]
  },
  {
   "cell_type": "markdown",
   "metadata": {},
   "source": [
    "Overall, this was a great attempt! Don't worry as much about the little mistakes around the imports and syntax, etc. You'll be doing this so much over the next few weeks that it'll become second nature very quickly. However, do pay more attention to developing the good habits I mentioned: descriptive naming conventions, data cleaning and exploration, and **more commenting!** Trust me, you think you'll remember exactly what was going through your mind when you look at your past code, but you won't! The more comments you leave for yourself (and your audience), the better. It may seem tedious, but your future self will thank you!"
   ]
  }
 ],
 "metadata": {
  "kernelspec": {
   "display_name": "base",
   "language": "python",
   "name": "base"
  },
  "language_info": {
   "codemirror_mode": {
    "name": "ipython",
    "version": 3
   },
   "file_extension": ".py",
   "mimetype": "text/x-python",
   "name": "python",
   "nbconvert_exporter": "python",
   "pygments_lexer": "ipython3",
   "version": "3.7.3"
  }
 },
 "nbformat": 4,
 "nbformat_minor": 4
}
